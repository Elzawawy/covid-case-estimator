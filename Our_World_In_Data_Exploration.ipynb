{
  "nbformat": 4,
  "nbformat_minor": 0,
  "metadata": {
    "colab": {
      "name": "Our World In Data Exploration",
      "provenance": [],
      "collapsed_sections": [],
      "authorship_tag": "ABX9TyOwa/ZC0x1pqITyc2k98+Id",
      "include_colab_link": true
    },
    "kernelspec": {
      "name": "python3",
      "display_name": "Python 3"
    }
  },
  "cells": [
    {
      "cell_type": "markdown",
      "metadata": {
        "id": "view-in-github",
        "colab_type": "text"
      },
      "source": [
        "<a href=\"https://colab.research.google.com/github/Elzawawy/covid-case-estimator/blob/master/Our_World_In_Data_Exploration.ipynb\" target=\"_parent\"><img src=\"https://colab.research.google.com/assets/colab-badge.svg\" alt=\"Open In Colab\"/></a>"
      ]
    },
    {
      "cell_type": "markdown",
      "metadata": {
        "id": "bqCJctzbofPT",
        "colab_type": "text"
      },
      "source": [
        "# Our World In Data Dataset Exploration\n",
        "\n",
        "Check out the [Dataset Website](https://ourworldindata.org/coronavirus) !\n",
        "\n",
        "Also it's available on this [Github Repository](https://github.com/owid/covid-19-data) !\n",
        "\n",
        "The dataset has 207 **country profiles** which allow you to explore the statistics on the coronavirus pandemic for every country in the world. Every country profile is updated daily. Every profile includes **four sections**:\n",
        "\n",
        "*  How many people have died from the coronavirus?\n",
        "*  How much testing for coronavirus do countries conduct? \n",
        "*  How many cases were confirmed?\n",
        "*  What measures did countries take in response to the pandemic?\n",
        "\n"
      ]
    },
    {
      "cell_type": "code",
      "metadata": {
        "id": "xR1E_rX53j1o",
        "colab_type": "code",
        "colab": {
          "base_uri": "https://localhost:8080/",
          "height": 122
        },
        "outputId": "8ed44187-2d83-450a-9a1c-61018a09d186"
      },
      "source": [
        "#imports cell\n",
        "import pandas as pd\n",
        "import numpy as np\n",
        "import pickle\n",
        "from shutil import copyfile\n",
        "\n",
        "# mount google drive to copy files from repo into drive.\n",
        "from google.colab import drive\n",
        "drive.mount('/content/drive')"
      ],
      "execution_count": 2,
      "outputs": [
        {
          "output_type": "stream",
          "text": [
            "Go to this URL in a browser: https://accounts.google.com/o/oauth2/auth?client_id=947318989803-6bn6qk8qdgf4n4g3pfee6491hc0brc4i.apps.googleusercontent.com&redirect_uri=urn%3aietf%3awg%3aoauth%3a2.0%3aoob&response_type=code&scope=email%20https%3a%2f%2fwww.googleapis.com%2fauth%2fdocs.test%20https%3a%2f%2fwww.googleapis.com%2fauth%2fdrive%20https%3a%2f%2fwww.googleapis.com%2fauth%2fdrive.photos.readonly%20https%3a%2f%2fwww.googleapis.com%2fauth%2fpeopleapi.readonly\n",
            "\n",
            "Enter your authorization code:\n",
            "··········\n",
            "Mounted at /content/drive\n"
          ],
          "name": "stdout"
        }
      ]
    },
    {
      "cell_type": "markdown",
      "metadata": {
        "id": "wh2DFT883iw8",
        "colab_type": "text"
      },
      "source": [
        "## Download the dataset\n",
        "The dataset can be downloaded either from the **website download URL** or from the Github repository file URL.\n",
        "After downloading the CSV file, I copy it to the permenant storage on Google Drive for future usage."
      ]
    },
    {
      "cell_type": "code",
      "metadata": {
        "id": "nxTY6S6dmxlM",
        "colab_type": "code",
        "colab": {
          "base_uri": "https://localhost:8080/",
          "height": 204
        },
        "outputId": "66b67f38-0d9d-4962-db14-742c8ac4bd1a"
      },
      "source": [
        "!wget -O owid-covid-data.csv https://covid.ourworldindata.org/data/owid-covid-data.csv\n",
        "OWID_COVID_DATA_FILE = \"/content/owid-covid-data.csv\"\n",
        "STORAGE_DIR = \"/content/drive/My Drive/COVID-19/our-world-in-data/\"\n",
        "copyfile(OWID_COVID_DATA_FILE, STORAGE_DIR+\"owid-covid-data.csv\");"
      ],
      "execution_count": 3,
      "outputs": [
        {
          "output_type": "stream",
          "text": [
            "--2020-05-16 06:49:44--  https://covid.ourworldindata.org/data/owid-covid-data.csv\n",
            "Resolving covid.ourworldindata.org (covid.ourworldindata.org)... 104.248.63.231, 2604:a880:400:d1::89c:7001\n",
            "Connecting to covid.ourworldindata.org (covid.ourworldindata.org)|104.248.63.231|:443... connected.\n",
            "HTTP request sent, awaiting response... 200 OK\n",
            "Length: 2488418 (2.4M) [text/csv]\n",
            "Saving to: ‘owid-covid-data.csv’\n",
            "\n",
            "\rowid-covid-data.csv   0%[                    ]       0  --.-KB/s               \rowid-covid-data.csv  24%[===>                ] 600.00K  2.89MB/s               \rowid-covid-data.csv  53%[=========>          ]   1.27M  3.14MB/s               \rowid-covid-data.csv  82%[===============>    ]   1.96M  3.22MB/s               \rowid-covid-data.csv 100%[===================>]   2.37M  3.30MB/s    in 0.7s    \n",
            "\n",
            "2020-05-16 06:49:45 (3.30 MB/s) - ‘owid-covid-data.csv’ saved [2488418/2488418]\n",
            "\n"
          ],
          "name": "stdout"
        }
      ]
    },
    {
      "cell_type": "markdown",
      "metadata": {
        "id": "SgkW56pP8SYD",
        "colab_type": "text"
      },
      "source": [
        "## Understanding the dataset\n"
      ]
    },
    {
      "cell_type": "code",
      "metadata": {
        "id": "-1ik-1V4qJaj",
        "colab_type": "code",
        "colab": {
          "base_uri": "https://localhost:8080/",
          "height": 309
        },
        "outputId": "cc149e87-d0a7-4193-903f-2bf595fc2620"
      },
      "source": [
        "owid_covid_dataframe = pd.read_csv(STORAGE_DIR+\"owid-covid-data.csv\")\n",
        "owid_covid_dataframe.head()"
      ],
      "execution_count": 4,
      "outputs": [
        {
          "output_type": "execute_result",
          "data": {
            "text/html": [
              "<div>\n",
              "<style scoped>\n",
              "    .dataframe tbody tr th:only-of-type {\n",
              "        vertical-align: middle;\n",
              "    }\n",
              "\n",
              "    .dataframe tbody tr th {\n",
              "        vertical-align: top;\n",
              "    }\n",
              "\n",
              "    .dataframe thead th {\n",
              "        text-align: right;\n",
              "    }\n",
              "</style>\n",
              "<table border=\"1\" class=\"dataframe\">\n",
              "  <thead>\n",
              "    <tr style=\"text-align: right;\">\n",
              "      <th></th>\n",
              "      <th>iso_code</th>\n",
              "      <th>location</th>\n",
              "      <th>date</th>\n",
              "      <th>total_cases</th>\n",
              "      <th>new_cases</th>\n",
              "      <th>total_deaths</th>\n",
              "      <th>new_deaths</th>\n",
              "      <th>total_cases_per_million</th>\n",
              "      <th>new_cases_per_million</th>\n",
              "      <th>total_deaths_per_million</th>\n",
              "      <th>new_deaths_per_million</th>\n",
              "      <th>total_tests</th>\n",
              "      <th>new_tests</th>\n",
              "      <th>total_tests_per_thousand</th>\n",
              "      <th>new_tests_per_thousand</th>\n",
              "      <th>tests_units</th>\n",
              "      <th>population</th>\n",
              "      <th>population_density</th>\n",
              "      <th>median_age</th>\n",
              "      <th>aged_65_older</th>\n",
              "      <th>aged_70_older</th>\n",
              "      <th>gdp_per_capita</th>\n",
              "      <th>extreme_poverty</th>\n",
              "      <th>cvd_death_rate</th>\n",
              "      <th>diabetes_prevalence</th>\n",
              "      <th>female_smokers</th>\n",
              "      <th>male_smokers</th>\n",
              "      <th>handwashing_facilities</th>\n",
              "      <th>hospital_beds_per_100k</th>\n",
              "    </tr>\n",
              "  </thead>\n",
              "  <tbody>\n",
              "    <tr>\n",
              "      <th>0</th>\n",
              "      <td>ABW</td>\n",
              "      <td>Aruba</td>\n",
              "      <td>2020-03-13</td>\n",
              "      <td>2</td>\n",
              "      <td>2</td>\n",
              "      <td>0</td>\n",
              "      <td>0</td>\n",
              "      <td>18.733</td>\n",
              "      <td>18.733</td>\n",
              "      <td>0.0</td>\n",
              "      <td>0.0</td>\n",
              "      <td>NaN</td>\n",
              "      <td>NaN</td>\n",
              "      <td>NaN</td>\n",
              "      <td>NaN</td>\n",
              "      <td>NaN</td>\n",
              "      <td>106766.0</td>\n",
              "      <td>584.8</td>\n",
              "      <td>41.2</td>\n",
              "      <td>13.085</td>\n",
              "      <td>7.452</td>\n",
              "      <td>35973.781</td>\n",
              "      <td>NaN</td>\n",
              "      <td>NaN</td>\n",
              "      <td>11.62</td>\n",
              "      <td>NaN</td>\n",
              "      <td>NaN</td>\n",
              "      <td>NaN</td>\n",
              "      <td>NaN</td>\n",
              "    </tr>\n",
              "    <tr>\n",
              "      <th>1</th>\n",
              "      <td>ABW</td>\n",
              "      <td>Aruba</td>\n",
              "      <td>2020-03-20</td>\n",
              "      <td>4</td>\n",
              "      <td>2</td>\n",
              "      <td>0</td>\n",
              "      <td>0</td>\n",
              "      <td>37.465</td>\n",
              "      <td>18.733</td>\n",
              "      <td>0.0</td>\n",
              "      <td>0.0</td>\n",
              "      <td>NaN</td>\n",
              "      <td>NaN</td>\n",
              "      <td>NaN</td>\n",
              "      <td>NaN</td>\n",
              "      <td>NaN</td>\n",
              "      <td>106766.0</td>\n",
              "      <td>584.8</td>\n",
              "      <td>41.2</td>\n",
              "      <td>13.085</td>\n",
              "      <td>7.452</td>\n",
              "      <td>35973.781</td>\n",
              "      <td>NaN</td>\n",
              "      <td>NaN</td>\n",
              "      <td>11.62</td>\n",
              "      <td>NaN</td>\n",
              "      <td>NaN</td>\n",
              "      <td>NaN</td>\n",
              "      <td>NaN</td>\n",
              "    </tr>\n",
              "    <tr>\n",
              "      <th>2</th>\n",
              "      <td>ABW</td>\n",
              "      <td>Aruba</td>\n",
              "      <td>2020-03-24</td>\n",
              "      <td>12</td>\n",
              "      <td>8</td>\n",
              "      <td>0</td>\n",
              "      <td>0</td>\n",
              "      <td>112.395</td>\n",
              "      <td>74.930</td>\n",
              "      <td>0.0</td>\n",
              "      <td>0.0</td>\n",
              "      <td>NaN</td>\n",
              "      <td>NaN</td>\n",
              "      <td>NaN</td>\n",
              "      <td>NaN</td>\n",
              "      <td>NaN</td>\n",
              "      <td>106766.0</td>\n",
              "      <td>584.8</td>\n",
              "      <td>41.2</td>\n",
              "      <td>13.085</td>\n",
              "      <td>7.452</td>\n",
              "      <td>35973.781</td>\n",
              "      <td>NaN</td>\n",
              "      <td>NaN</td>\n",
              "      <td>11.62</td>\n",
              "      <td>NaN</td>\n",
              "      <td>NaN</td>\n",
              "      <td>NaN</td>\n",
              "      <td>NaN</td>\n",
              "    </tr>\n",
              "    <tr>\n",
              "      <th>3</th>\n",
              "      <td>ABW</td>\n",
              "      <td>Aruba</td>\n",
              "      <td>2020-03-25</td>\n",
              "      <td>17</td>\n",
              "      <td>5</td>\n",
              "      <td>0</td>\n",
              "      <td>0</td>\n",
              "      <td>159.227</td>\n",
              "      <td>46.831</td>\n",
              "      <td>0.0</td>\n",
              "      <td>0.0</td>\n",
              "      <td>NaN</td>\n",
              "      <td>NaN</td>\n",
              "      <td>NaN</td>\n",
              "      <td>NaN</td>\n",
              "      <td>NaN</td>\n",
              "      <td>106766.0</td>\n",
              "      <td>584.8</td>\n",
              "      <td>41.2</td>\n",
              "      <td>13.085</td>\n",
              "      <td>7.452</td>\n",
              "      <td>35973.781</td>\n",
              "      <td>NaN</td>\n",
              "      <td>NaN</td>\n",
              "      <td>11.62</td>\n",
              "      <td>NaN</td>\n",
              "      <td>NaN</td>\n",
              "      <td>NaN</td>\n",
              "      <td>NaN</td>\n",
              "    </tr>\n",
              "    <tr>\n",
              "      <th>4</th>\n",
              "      <td>ABW</td>\n",
              "      <td>Aruba</td>\n",
              "      <td>2020-03-26</td>\n",
              "      <td>19</td>\n",
              "      <td>2</td>\n",
              "      <td>0</td>\n",
              "      <td>0</td>\n",
              "      <td>177.959</td>\n",
              "      <td>18.733</td>\n",
              "      <td>0.0</td>\n",
              "      <td>0.0</td>\n",
              "      <td>NaN</td>\n",
              "      <td>NaN</td>\n",
              "      <td>NaN</td>\n",
              "      <td>NaN</td>\n",
              "      <td>NaN</td>\n",
              "      <td>106766.0</td>\n",
              "      <td>584.8</td>\n",
              "      <td>41.2</td>\n",
              "      <td>13.085</td>\n",
              "      <td>7.452</td>\n",
              "      <td>35973.781</td>\n",
              "      <td>NaN</td>\n",
              "      <td>NaN</td>\n",
              "      <td>11.62</td>\n",
              "      <td>NaN</td>\n",
              "      <td>NaN</td>\n",
              "      <td>NaN</td>\n",
              "      <td>NaN</td>\n",
              "    </tr>\n",
              "  </tbody>\n",
              "</table>\n",
              "</div>"
            ],
            "text/plain": [
              "  iso_code location  ... handwashing_facilities  hospital_beds_per_100k\n",
              "0      ABW    Aruba  ...                    NaN                     NaN\n",
              "1      ABW    Aruba  ...                    NaN                     NaN\n",
              "2      ABW    Aruba  ...                    NaN                     NaN\n",
              "3      ABW    Aruba  ...                    NaN                     NaN\n",
              "4      ABW    Aruba  ...                    NaN                     NaN\n",
              "\n",
              "[5 rows x 29 columns]"
            ]
          },
          "metadata": {
            "tags": []
          },
          "execution_count": 4
        }
      ]
    },
    {
      "cell_type": "code",
      "metadata": {
        "id": "ztuqr6Nn_-00",
        "colab_type": "code",
        "colab": {}
      },
      "source": [
        "def create_daily_feature_dict(dataframe, feature):\n",
        "  country_cases = {}\n",
        "  countries = dataframe.location.unique()\n",
        "  dataframe = dataframe.dropna(subset=[feature])\n",
        "  for country in countries:\n",
        "    dict_value = np.array(dataframe[dataframe['location'] == country].sort_values(by=['date'])[['date',feature]])\n",
        "    if(dict_value.size != 0):\n",
        "      country_cases[country] = dict_value\n",
        "  return country_cases\n",
        "\n",
        "def save_dict_to_pickle(dict, pickle_file):\n",
        "  with open(pickle_file, 'wb') as handle:\n",
        "    pickle.dump(dict, handle, protocol=pickle.HIGHEST_PROTOCOL)"
      ],
      "execution_count": 0,
      "outputs": []
    },
    {
      "cell_type": "markdown",
      "metadata": {
        "id": "v1iY8BfP_-iV",
        "colab_type": "text"
      },
      "source": [
        "### Create a New Confirmed Cases Dictionary\n",
        "* **Key: Country**\n",
        "* **Value: array(list(date,new_cases_count))**\n",
        "\n",
        "Saved to `COVID-19/our-world-in-data/country_confirmed_dict.csv` !\n",
        "\n",
        "### Create a New Deaths Cases Dictionary\n",
        "* **Key: Country**\n",
        "* **Value: array(list(date,new_deaths_count))**\n",
        "\n",
        "Saved to `COVID-19/our-world-in-data/country_deaths_dict.csv` !\n",
        "\n",
        "### Create a New Tests Cases Dictionary\n",
        "* **Key: Country**\n",
        "* **Value: array(list(date,new_tests_count))**\n",
        "\n",
        "Saved to `COVID-19/our-world-in-data/country_tests_dict.csv` !"
      ]
    },
    {
      "cell_type": "code",
      "metadata": {
        "id": "VDunVhn_qTzb",
        "colab_type": "code",
        "colab": {}
      },
      "source": [
        "country_daily_features = ['new_cases','new_deaths','new_tests']\n",
        "for feature in country_daily_features:\n",
        "  country_feature_dict = create_daily_feature_dict(owid_covid_dataframe,feature)\n",
        "  save_dict_to_pickle(country_feature_dict, STORAGE_DIR+'{}_dict.pickle'.format(feature))"
      ],
      "execution_count": 0,
      "outputs": []
    },
    {
      "cell_type": "markdown",
      "metadata": {
        "id": "u8NTMGOfeOK8",
        "colab_type": "text"
      },
      "source": [
        "## Global Features For Each Country\n",
        "\n",
        "* Next up, we work towards features that we need for the **class 2 model** we are trying out which is a  Total Cases Model where each instance of data resembles a country and its features and the prediction label are the number of total cases in the country.\n",
        "\n",
        "* Our Word In Data dataset fits well for such case, and has a large corpus of global country features. In particular we extract the following features:\n",
        "\n",
        "    1- **Total Number of Cases:** total number of confirmed found cases whether they are active, recovered or dead.\n",
        "\n",
        "    2- **Population:** the number of individuals in a population. \n",
        "\n",
        "    3- **Population Density:** the average number of individuals per unit of area or volume."
      ]
    },
    {
      "cell_type": "code",
      "metadata": {
        "id": "Ik0SNm72s2jH",
        "colab_type": "code",
        "colab": {}
      },
      "source": [
        "def create_global_feature_dict(dataframe,feature):\n",
        "  country_feature_dict = {}\n",
        "  countries = dataframe.location.unique()\n",
        "  for country in countries:\n",
        "    dict_value = dataframe[dataframe['location'] == country][feature].dropna()\n",
        "    if(dict_value.size != 0):\n",
        "      country_feature_dict[country] = dict_value.iloc[-1]\n",
        "  return country_feature_dict"
      ],
      "execution_count": 0,
      "outputs": []
    },
    {
      "cell_type": "code",
      "metadata": {
        "id": "6wW8fkY-N6Mc",
        "colab_type": "code",
        "colab": {}
      },
      "source": [
        "country_features = ['total_cases','population','median_age','gdp_per_capita','hospital_beds_per_100k','total_deaths', 'total_tests']\n",
        "for feature in country_features:\n",
        "  country_feature_dict = create_global_feature_dict(owid_covid_dataframe,feature)\n",
        "  save_dict_to_pickle(country_feature_dict, STORAGE_DIR+'country-features/{}_dict.pickle'.format(feature))"
      ],
      "execution_count": 0,
      "outputs": []
    },
    {
      "cell_type": "code",
      "metadata": {
        "id": "SgS4MluTo8nR",
        "colab_type": "code",
        "colab": {
          "base_uri": "https://localhost:8080/",
          "height": 163
        },
        "outputId": "fa0332e8-c236-4779-caf0-7013d15b268b"
      },
      "source": [
        "df[df.columns[3:]].corr()['total_cases'][:]"
      ],
      "execution_count": 9,
      "outputs": [
        {
          "output_type": "error",
          "ename": "NameError",
          "evalue": "ignored",
          "traceback": [
            "\u001b[0;31m---------------------------------------------------------------------------\u001b[0m",
            "\u001b[0;31mNameError\u001b[0m                                 Traceback (most recent call last)",
            "\u001b[0;32m<ipython-input-9-a6aab28b3efc>\u001b[0m in \u001b[0;36m<module>\u001b[0;34m()\u001b[0m\n\u001b[0;32m----> 1\u001b[0;31m \u001b[0mdf\u001b[0m\u001b[0;34m[\u001b[0m\u001b[0mdf\u001b[0m\u001b[0;34m.\u001b[0m\u001b[0mcolumns\u001b[0m\u001b[0;34m[\u001b[0m\u001b[0;36m3\u001b[0m\u001b[0;34m:\u001b[0m\u001b[0;34m]\u001b[0m\u001b[0;34m]\u001b[0m\u001b[0;34m.\u001b[0m\u001b[0mcorr\u001b[0m\u001b[0;34m(\u001b[0m\u001b[0;34m)\u001b[0m\u001b[0;34m[\u001b[0m\u001b[0;34m'total_cases'\u001b[0m\u001b[0;34m]\u001b[0m\u001b[0;34m[\u001b[0m\u001b[0;34m:\u001b[0m\u001b[0;34m]\u001b[0m\u001b[0;34m\u001b[0m\u001b[0;34m\u001b[0m\u001b[0m\n\u001b[0m",
            "\u001b[0;31mNameError\u001b[0m: name 'df' is not defined"
          ]
        }
      ]
    }
  ]
}