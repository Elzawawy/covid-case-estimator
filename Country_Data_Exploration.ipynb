{
  "nbformat": 4,
  "nbformat_minor": 0,
  "metadata": {
    "colab": {
      "name": "Country Data Exploration",
      "provenance": [],
      "collapsed_sections": [],
      "toc_visible": true,
      "authorship_tag": "ABX9TyPBnxPUwKYDUf/HjlE42bcE",
      "include_colab_link": true
    },
    "kernelspec": {
      "name": "python3",
      "display_name": "Python 3"
    }
  },
  "cells": [
    {
      "cell_type": "markdown",
      "metadata": {
        "id": "view-in-github",
        "colab_type": "text"
      },
      "source": [
        "<a href=\"https://colab.research.google.com/github/Elzawawy/covid-case-estimator/blob/master/Country_Data_Exploration.ipynb\" target=\"_parent\"><img src=\"https://colab.research.google.com/assets/colab-badge.svg\" alt=\"Open In Colab\"/></a>"
      ]
    },
    {
      "cell_type": "markdown",
      "metadata": {
        "id": "pkKJ0F8Gva1s",
        "colab_type": "text"
      },
      "source": [
        "# COVID-19 Country Data Exploration\n",
        "\n",
        "* Under the light of learning more about COVID-19 and how different countries are affected by it and why. It might be useful to compare different metrics between different countries.\n",
        "\n",
        "* In this dataset we dig very deep into more complicated and diverse per-country features in a trial to improve Model Class 2 and develop more and better features for it.\n",
        "\n",
        "* This dataset is thanks to @Patrick from Kaggle. You can find it [here](https://www.kaggle.com/bitsnpieces/covid19-country-data/version/12?select=covid19_data)."
      ]
    },
    {
      "cell_type": "code",
      "metadata": {
        "id": "40NIacCCuNAT",
        "colab_type": "code",
        "outputId": "e0efc4ab-81e7-4264-9ea3-71689d6480f0",
        "colab": {
          "base_uri": "https://localhost:8080/",
          "height": 122
        }
      },
      "source": [
        "#imports cell\n",
        "import pandas as pd\n",
        "import numpy as np\n",
        "import pickle\n",
        "from shutil import copyfile\n",
        "\n",
        "# Plotting libraries\n",
        "import matplotlib.pyplot as plt\n",
        "import plotly.express as px\n",
        "\n",
        "# mount google drive to copy files from repo into drive.\n",
        "from google.colab import drive\n",
        "drive.mount('/content/drive')\n",
        "STORAGE_DIR = \"/content/drive/My Drive/COVID-19/country-data/\""
      ],
      "execution_count": 1,
      "outputs": [
        {
          "output_type": "stream",
          "text": [
            "Go to this URL in a browser: https://accounts.google.com/o/oauth2/auth?client_id=947318989803-6bn6qk8qdgf4n4g3pfee6491hc0brc4i.apps.googleusercontent.com&redirect_uri=urn%3aietf%3awg%3aoauth%3a2.0%3aoob&response_type=code&scope=email%20https%3a%2f%2fwww.googleapis.com%2fauth%2fdocs.test%20https%3a%2f%2fwww.googleapis.com%2fauth%2fdrive%20https%3a%2f%2fwww.googleapis.com%2fauth%2fdrive.photos.readonly%20https%3a%2f%2fwww.googleapis.com%2fauth%2fpeopleapi.readonly\n",
            "\n",
            "Enter your authorization code:\n",
            "··········\n",
            "Mounted at /content/drive\n"
          ],
          "name": "stdout"
        }
      ]
    },
    {
      "cell_type": "markdown",
      "metadata": {
        "id": "Cxhc3odv5RDh",
        "colab_type": "text"
      },
      "source": [
        "### Downloading Dataset\n",
        "\n",
        "* We use the Official API for https://www.kaggle.com to get our datasets.\n",
        "\n",
        "*   You can get your own Kaggle API key to run this cell by going to kaggle.com and navigating to `My Account` Tab and use the `Create API Key` button, you then upload it to the notebook's temproray storage."
      ]
    },
    {
      "cell_type": "code",
      "metadata": {
        "id": "C5nUXvlV46-B",
        "colab_type": "code",
        "outputId": "314e7df3-43b2-4884-f7fb-d7ec515925f8",
        "colab": {
          "base_uri": "https://localhost:8080/",
          "height": 649
        }
      },
      "source": [
        "!pip install kaggle\n",
        "# You have to upload you own Kaggle API which is the `kaggle.json` into the temp directory first.\n",
        "!cp /content/kaggle.json ~/.kaggle/kaggle.json\n",
        "# For the Kaggle API key to be un-readable by other users on this system.\n",
        "!chmod 600 /root/.kaggle/kaggle.json\n",
        "!kaggle datasets download -d bitsnpieces/covid19-country-data\n",
        "!mkdir country_data_dataset\n",
        "!unzip covid19-country-data.zip -d country_data_dataset\n",
        "!rm covid19-country-data.zip"
      ],
      "execution_count": 3,
      "outputs": [
        {
          "output_type": "stream",
          "text": [
            "Requirement already satisfied: kaggle in /usr/local/lib/python3.6/dist-packages (1.5.6)\n",
            "Requirement already satisfied: urllib3<1.25,>=1.21.1 in /usr/local/lib/python3.6/dist-packages (from kaggle) (1.24.3)\n",
            "Requirement already satisfied: python-slugify in /usr/local/lib/python3.6/dist-packages (from kaggle) (4.0.0)\n",
            "Requirement already satisfied: python-dateutil in /usr/local/lib/python3.6/dist-packages (from kaggle) (2.8.1)\n",
            "Requirement already satisfied: certifi in /usr/local/lib/python3.6/dist-packages (from kaggle) (2020.4.5.1)\n",
            "Requirement already satisfied: tqdm in /usr/local/lib/python3.6/dist-packages (from kaggle) (4.41.1)\n",
            "Requirement already satisfied: six>=1.10 in /usr/local/lib/python3.6/dist-packages (from kaggle) (1.12.0)\n",
            "Requirement already satisfied: requests in /usr/local/lib/python3.6/dist-packages (from kaggle) (2.23.0)\n",
            "Requirement already satisfied: text-unidecode>=1.3 in /usr/local/lib/python3.6/dist-packages (from python-slugify->kaggle) (1.3)\n",
            "Requirement already satisfied: chardet<4,>=3.0.2 in /usr/local/lib/python3.6/dist-packages (from requests->kaggle) (3.0.4)\n",
            "Requirement already satisfied: idna<3,>=2.5 in /usr/local/lib/python3.6/dist-packages (from requests->kaggle) (2.9)\n",
            "Downloading covid19-country-data.zip to /content\n",
            "  0% 0.00/186k [00:00<?, ?B/s]\n",
            "100% 186k/186k [00:00<00:00, 27.6MB/s]\n",
            "Archive:  covid19-country-data.zip\n",
            "  inflating: country_data_dataset/country_names_covid19_forecast.csv  \n",
            "  inflating: country_data_dataset/covid19_data - 2009_flu_pandemic.csv  \n",
            "  inflating: country_data_dataset/covid19_data - age.csv  \n",
            "  inflating: country_data_dataset/covid19_data - airport_traffic.csv  \n",
            "  inflating: country_data_dataset/covid19_data - airport_traffic_world.csv  \n",
            "  inflating: country_data_dataset/covid19_data - cost_of_living.csv  \n",
            "  inflating: country_data_dataset/covid19_data - covid19_strains.csv  \n",
            "  inflating: country_data_dataset/covid19_data - covid_tests.csv  \n",
            "  inflating: country_data_dataset/covid19_data - data_sources.csv  \n",
            "  inflating: country_data_dataset/covid19_data - flu_pneumonia_death.csv  \n",
            "  inflating: country_data_dataset/covid19_data - gdp.csv  \n",
            "  inflating: country_data_dataset/covid19_data - health.csv  \n",
            "  inflating: country_data_dataset/covid19_data - hospital_beds.csv  \n",
            "  inflating: country_data_dataset/covid19_data - lat_long.csv  \n",
            "  inflating: country_data_dataset/covid19_data - population.csv  \n",
            "  inflating: country_data_dataset/covid19_data - property_prices.csv  \n",
            "  inflating: country_data_dataset/covid19_data - quality_of_life.csv  \n",
            "  inflating: country_data_dataset/covid19_data - school_closures.csv  \n",
            "  inflating: country_data_dataset/covid19_data - sex.csv  \n",
            "  inflating: country_data_dataset/covid19_merged.csv  \n",
            "  inflating: country_data_dataset/dhl_people_breadth.csv  \n"
          ],
          "name": "stdout"
        }
      ]
    },
    {
      "cell_type": "markdown",
      "metadata": {
        "id": "em29kORU_ZNv",
        "colab_type": "text"
      },
      "source": [
        "## Understanding the Dataset\n",
        "\n",
        "* The dataset has a lot of features to try out and check the correlation between them and the `total_cases`.\n",
        "\n",
        "* Features avaiable from the dataset:\n",
        "\n",
        "  * Monthly temperature and precipitation from Worldbank.\n",
        "\n",
        "  * Latitude and longitude\n",
        "  * Population, density, gender and age\n",
        "  * Airport traffic from Worldbank\n",
        "  * COVID-19 date of first case and number of cases and deaths as of March 26, 2020\n",
        "  * 2009 H1N1 flu pandemic cases and deaths obtained from Wikipedia\n",
        "  * Property affordability index and Health care index from Numbeo\n",
        "  * Number of hospital beds and ICU beds from Wikipedia\n",
        "  * Flu and pneumonia death rate from Worldlifeexpectancy.com (Age Adjusted Death Rate Estimates: 2017)\n",
        "\n",
        "  * School closures due to COVID-19\n",
        "  * Number of COVID-19 tests done\n",
        "  * Number of COVID-19 genetic strains\n",
        "  * US Social Distancing Policies from COVID19StatePolicy’s SocialDistancing repository on GitHub\n",
        "  * DHL Global Connectedness Index 2018 (People Breadth scores)"
      ]
    },
    {
      "cell_type": "code",
      "metadata": {
        "id": "tIOAxlUJBrCb",
        "colab_type": "code",
        "colab": {}
      },
      "source": [
        "### Load Total Cases to check correlation with features.\n",
        "TOTAL_CASES_FILE_PATH = \"/content/drive/My Drive/COVID-19/our-world-in-data/country-features/total_cases_dict.pickle\"\n",
        "# Load data (deserialize) from pickle file.\n",
        "with open(TOTAL_CASES_FILE_PATH, 'rb') as handle:\n",
        "    total_cases_dictionary = pickle.load(handle)\n",
        "\n",
        "# a safe getter fucntion for lists in Python 3.xx\n",
        "def safe_list_get (l, idx, default):\n",
        "  try:\n",
        "    return l[idx]\n",
        "  except IndexError:\n",
        "    return default\n",
        "\n",
        "# matcher function that matches a list of keys with the total_cases_dict keys to join them.\n",
        "def matcher(k):\n",
        "    x = (i for i in total_cases_dictionary if i ==k)\n",
        "    return safe_list_get(list(map(total_cases_dictionary.get, x)),0,np.nan)\n",
        "\n",
        "# helper method to save dicts into pickle files.\n",
        "def save_dict_to_pickle(dict, pickle_file):\n",
        "  with open(pickle_file, 'wb') as handle:\n",
        "    pickle.dump(dict, handle, protocol=pickle.HIGHEST_PROTOCOL)"
      ],
      "execution_count": 0,
      "outputs": []
    },
    {
      "cell_type": "markdown",
      "metadata": {
        "id": "sI3EN5T0-8fS",
        "colab_type": "text"
      },
      "source": [
        "## Trying out Country GDP Features\n",
        "\n",
        "* **Gross Domestic Product (GDP)** is the monetary value of all finished goods and services made within a country during a specific period. GDP provides an economic snapshot of a country, used to estimate the size of an economy and growth rate. GDP can be calculated in three ways, using expenditures, production, or incomes.\n",
        "\n",
        "* We will see how this **feature correlates with the number of total cases for each country.**"
      ]
    },
    {
      "cell_type": "code",
      "metadata": {
        "id": "qFEtWzUq9KKy",
        "colab_type": "code",
        "outputId": "d371ccb5-abc2-4bef-ffae-d76c59cd6781",
        "colab": {
          "base_uri": "https://localhost:8080/",
          "height": 204
        }
      },
      "source": [
        "GDP_FEATURE_FILE_PATH = \"/content/country_data_dataset/covid19_data - gdp.csv\"\n",
        "gdp_dataframe = pd.read_csv(GDP_FEATURE_FILE_PATH)\n",
        "gdp_dataframe.head()"
      ],
      "execution_count": 6,
      "outputs": [
        {
          "output_type": "execute_result",
          "data": {
            "text/html": [
              "<div>\n",
              "<style scoped>\n",
              "    .dataframe tbody tr th:only-of-type {\n",
              "        vertical-align: middle;\n",
              "    }\n",
              "\n",
              "    .dataframe tbody tr th {\n",
              "        vertical-align: top;\n",
              "    }\n",
              "\n",
              "    .dataframe thead th {\n",
              "        text-align: right;\n",
              "    }\n",
              "</style>\n",
              "<table border=\"1\" class=\"dataframe\">\n",
              "  <thead>\n",
              "    <tr style=\"text-align: right;\">\n",
              "      <th></th>\n",
              "      <th>Rank</th>\n",
              "      <th>Country/Territory</th>\n",
              "      <th>GDP_USD_Million</th>\n",
              "    </tr>\n",
              "  </thead>\n",
              "  <tbody>\n",
              "    <tr>\n",
              "      <th>0</th>\n",
              "      <td>1</td>\n",
              "      <td>United States</td>\n",
              "      <td>21,439,453</td>\n",
              "    </tr>\n",
              "    <tr>\n",
              "      <th>1</th>\n",
              "      <td>2</td>\n",
              "      <td>European Union</td>\n",
              "      <td>18,705,132</td>\n",
              "    </tr>\n",
              "    <tr>\n",
              "      <th>2</th>\n",
              "      <td>2</td>\n",
              "      <td>China</td>\n",
              "      <td>14,140,163</td>\n",
              "    </tr>\n",
              "    <tr>\n",
              "      <th>3</th>\n",
              "      <td>3</td>\n",
              "      <td>Japan</td>\n",
              "      <td>5,154,475</td>\n",
              "    </tr>\n",
              "    <tr>\n",
              "      <th>4</th>\n",
              "      <td>4</td>\n",
              "      <td>Germany</td>\n",
              "      <td>3,863,344</td>\n",
              "    </tr>\n",
              "  </tbody>\n",
              "</table>\n",
              "</div>"
            ],
            "text/plain": [
              "   Rank Country/Territory GDP_USD_Million\n",
              "0     1     United States      21,439,453\n",
              "1     2    European Union      18,705,132\n",
              "2     2             China      14,140,163\n",
              "3     3             Japan       5,154,475\n",
              "4     4           Germany       3,863,344"
            ]
          },
          "metadata": {
            "tags": []
          },
          "execution_count": 6
        }
      ]
    },
    {
      "cell_type": "markdown",
      "metadata": {
        "id": "NxQ6Zga4DOJE",
        "colab_type": "text"
      },
      "source": [
        "### Adding Total Cases Column to Dataframe"
      ]
    },
    {
      "cell_type": "code",
      "metadata": {
        "id": "wAm_WA0fAEPk",
        "colab_type": "code",
        "colab": {
          "base_uri": "https://localhost:8080/",
          "height": 204
        },
        "outputId": "0e19c6a9-6072-44f5-8f63-7d141d7acd42"
      },
      "source": [
        "gdp_dataframe['total_cases'] = gdp_dataframe['Country/Territory'].map(matcher)\n",
        "gdp_dataframe['GDP_USD_Million'] = gdp_dataframe['GDP_USD_Million'].str.replace(',','').astype(float)\n",
        "gdp_dataframe.dropna(inplace=True)\n",
        "gdp_dataframe.head()"
      ],
      "execution_count": 11,
      "outputs": [
        {
          "output_type": "execute_result",
          "data": {
            "text/html": [
              "<div>\n",
              "<style scoped>\n",
              "    .dataframe tbody tr th:only-of-type {\n",
              "        vertical-align: middle;\n",
              "    }\n",
              "\n",
              "    .dataframe tbody tr th {\n",
              "        vertical-align: top;\n",
              "    }\n",
              "\n",
              "    .dataframe thead th {\n",
              "        text-align: right;\n",
              "    }\n",
              "</style>\n",
              "<table border=\"1\" class=\"dataframe\">\n",
              "  <thead>\n",
              "    <tr style=\"text-align: right;\">\n",
              "      <th></th>\n",
              "      <th>Rank</th>\n",
              "      <th>Country/Territory</th>\n",
              "      <th>GDP_USD_Million</th>\n",
              "      <th>total_cases</th>\n",
              "    </tr>\n",
              "  </thead>\n",
              "  <tbody>\n",
              "    <tr>\n",
              "      <th>0</th>\n",
              "      <td>1</td>\n",
              "      <td>United States</td>\n",
              "      <td>21439453.0</td>\n",
              "      <td>1467884</td>\n",
              "    </tr>\n",
              "    <tr>\n",
              "      <th>2</th>\n",
              "      <td>2</td>\n",
              "      <td>China</td>\n",
              "      <td>14140163.0</td>\n",
              "      <td>84044</td>\n",
              "    </tr>\n",
              "    <tr>\n",
              "      <th>3</th>\n",
              "      <td>3</td>\n",
              "      <td>Japan</td>\n",
              "      <td>5154475.0</td>\n",
              "      <td>16285</td>\n",
              "    </tr>\n",
              "    <tr>\n",
              "      <th>4</th>\n",
              "      <td>4</td>\n",
              "      <td>Germany</td>\n",
              "      <td>3863344.0</td>\n",
              "      <td>174355</td>\n",
              "    </tr>\n",
              "    <tr>\n",
              "      <th>5</th>\n",
              "      <td>5</td>\n",
              "      <td>India</td>\n",
              "      <td>2935570.0</td>\n",
              "      <td>90927</td>\n",
              "    </tr>\n",
              "  </tbody>\n",
              "</table>\n",
              "</div>"
            ],
            "text/plain": [
              "   Rank Country/Territory  GDP_USD_Million  total_cases\n",
              "0     1     United States       21439453.0      1467884\n",
              "2     2             China       14140163.0        84044\n",
              "3     3             Japan        5154475.0        16285\n",
              "4     4           Germany        3863344.0       174355\n",
              "5     5             India        2935570.0        90927"
            ]
          },
          "metadata": {
            "tags": []
          },
          "execution_count": 11
        }
      ]
    },
    {
      "cell_type": "markdown",
      "metadata": {
        "id": "l5s1QXAsEDdp",
        "colab_type": "text"
      },
      "source": [
        "### Correlation Between GDP and Total Cases \n",
        "\n",
        "* Plotting Scatter Plot.\n",
        "* Calculate correlation factor. (Value = 0.832602)\n",
        "\n",
        "#### Observations: \n",
        "\n",
        "* There's a high correlation between them and GDP sounds as an effective feature to add for country features."
      ]
    },
    {
      "cell_type": "code",
      "metadata": {
        "id": "FxIJAR66Anhn",
        "colab_type": "code",
        "outputId": "b106be4d-487c-4c58-ff85-6e942055ca9c",
        "colab": {
          "base_uri": "https://localhost:8080/",
          "height": 610
        }
      },
      "source": [
        "px.scatter(gdp_dataframe,'GDP_USD_Million','total_cases',title = \"Total Cases vs GDP\").show()\n",
        "gdp_dataframe[gdp_dataframe.columns[:]].corr()['total_cases'][:]"
      ],
      "execution_count": 14,
      "outputs": [
        {
          "output_type": "display_data",
          "data": {
            "text/html": [
              "<html>\n",
              "<head><meta charset=\"utf-8\" /></head>\n",
              "<body>\n",
              "    <div>\n",
              "            <script src=\"https://cdnjs.cloudflare.com/ajax/libs/mathjax/2.7.5/MathJax.js?config=TeX-AMS-MML_SVG\"></script><script type=\"text/javascript\">if (window.MathJax) {MathJax.Hub.Config({SVG: {font: \"STIX-Web\"}});}</script>\n",
              "                <script type=\"text/javascript\">window.PlotlyConfig = {MathJaxConfig: 'local'};</script>\n",
              "        <script src=\"https://cdn.plot.ly/plotly-latest.min.js\"></script>    \n",
              "            <div id=\"d088def5-f154-44ea-94aa-10c1d6bd6d0f\" class=\"plotly-graph-div\" style=\"height:525px; width:100%;\"></div>\n",
              "            <script type=\"text/javascript\">\n",
              "                \n",
              "                    window.PLOTLYENV=window.PLOTLYENV || {};\n",
              "                    \n",
              "                if (document.getElementById(\"d088def5-f154-44ea-94aa-10c1d6bd6d0f\")) {\n",
              "                    Plotly.newPlot(\n",
              "                        'd088def5-f154-44ea-94aa-10c1d6bd6d0f',\n",
              "                        [{\"hoverlabel\": {\"namelength\": 0}, \"hovertemplate\": \"GDP_USD_Million=%{x}<br>total_cases=%{y}\", \"legendgroup\": \"\", \"marker\": {\"color\": \"#636efa\", \"symbol\": \"circle\"}, \"mode\": \"markers\", \"name\": \"\", \"showlegend\": false, \"type\": \"scatter\", \"x\": [21439453.0, 14140163.0, 5154475.0, 3863344.0, 2935570.0, 2743586.0, 2707074.0, 1988636.0, 1847020.0, 1730914.0, 1637892.0, 1397870.0, 1376255.0, 1274175.0, 1111713.0, 902355.0, 779289.0, 743708.0, 715360.0, 586104.0, 565854.0, 529177.0, 528929.0, 517609.0, 458500.0, 447718.0, 446543.0, 445469.0, 417627.0, 405771.0, 387717.0, 384940.0, 372989.0, 365303.0, 362818.0, 358839.0, 356814.0, 347176.0, 327895.0, 317465.0, 302256.0, 294237.0, 284214.0, 269654.0, 261637.0, 246953.0, 243698.0, 236408.0, 228989.0, 224462.0, 214012.0, 204671.0, 191849.0, 172781.0, 170407.0, 170326.0, 150401.0, 137591.0, 119040.0, 107914.0, 106552.0, 99913.0, 98607.0, 91527.0, 91166.0, 89475.0, 86566.0, 81318.0, 76609.0, 70140.0, 69453.0, 68536.0, 67077.0, 66250.0, 65994.0, 62224.0, 62572.0, 61021.0, 60702.0, 60490.0, 60043.0, 59918.0, 58565.0, 54154.0, 53641.0, 51523.0, 47171.0, 44172.0, 42401.0, 40714.0, 38732.0, 38632.0, 38184.0, 35045.0, 33018.0, 31038.0, 30873.0, 30666.0, 29855.0, 29813.0, 26871.0, 26730.0, 24449.0, 24280.0, 23946.0, 23940.0, 23918.0, 23587.0, 22607.0, 20106.0, 19127.0, 18734.0, 18690.0, 17647.0, 16877.0, 15925.0, 15702.0, 15418.0, 15093.0, 14859.0, 14593.0, 14391.0, 14374.0, 14368.0, 13637.0, 13444.0, 13368.0, 12818.0, 12550.0, 12528.0, 12455.0, 12142.0, 11688.0, 11026.0, 10209.0, 9443.0, 8819.0, 8261.0, 8152.0, 7996.0, 7522.0, 5786.0, 5502.0, 5651.0, 5424.0, 5708.0, 5189.0, 4958.0, 4229.0, 4121.0, 3774.0, 3681.0, 3573.0, 3221.0, 3166.0, 2903.0, 2842.0, 2741.0, 2321.0, 2110.0, 2001.0, 1773.0, 1688.0, 1644.0, 1591.0, 1238.0, 1179.0, 593.0, 430.0], \"xaxis\": \"x\", \"y\": [1467884, 84044, 16285, 174355, 90927, 240161, 142291, 224760, 233142, 75853, 272043, 230698, 7036, 47144, 17025, 43870, 52016, 148067, 30489, 440, 18257, 3028, 29677, 54989, 118392, 16140, 5621, 7792, 8197, 22627, 16608, 24048, 0, 6872, 27356, 14355, 12305, 10858, 14939, 20995, 11719, 41428, 40151, 6286, 318, 8455, 16704, 28810, 88541, 3260, 2819, 1149, 30972, 6821, 3509, 6157, 17858, 13802, 6741, 32763, 1493, 2589, 830, 48, 306, 11893, 960, 1763, 5029, 504, 3930, 9449, 5735, 2211, 182, 509, 28681, 853, 2224, 2741, 51, 733, 902, 1465, 1534, 10496, 3138, 607, 3826, 778, 1035, 3292, 6747, 997, 65, 1770, 1964, 227, 124, 291, 1265, 122, 2565, 914, 679, 2429, 1802, 8, 116, 2267, 19, 6402, 24, 835, 1320, 695, 517, 933, 129, 546, 782, 332, 339, 16, 136, 4283, 2658, 44, 283, 25, 141, 594, 5934, 474, 289, 889, 358, 1138, 1322, 944, 65, 1078, 298, 29, 324, 18, 86, 1357, 462, 117, 10, 236, 27, 223, 1331, 101, 21, 1, 327, 39, 18, 23, 25, 11, 653, 22, 11, 16, 235], \"yaxis\": \"y\"}],\n",
              "                        {\"legend\": {\"tracegroupgap\": 0}, \"template\": {\"data\": {\"bar\": [{\"error_x\": {\"color\": \"#2a3f5f\"}, \"error_y\": {\"color\": \"#2a3f5f\"}, \"marker\": {\"line\": {\"color\": \"#E5ECF6\", \"width\": 0.5}}, \"type\": \"bar\"}], \"barpolar\": [{\"marker\": {\"line\": {\"color\": \"#E5ECF6\", \"width\": 0.5}}, \"type\": \"barpolar\"}], \"carpet\": [{\"aaxis\": {\"endlinecolor\": \"#2a3f5f\", \"gridcolor\": \"white\", \"linecolor\": \"white\", \"minorgridcolor\": \"white\", \"startlinecolor\": \"#2a3f5f\"}, \"baxis\": {\"endlinecolor\": \"#2a3f5f\", \"gridcolor\": \"white\", \"linecolor\": \"white\", \"minorgridcolor\": \"white\", \"startlinecolor\": \"#2a3f5f\"}, \"type\": \"carpet\"}], \"choropleth\": [{\"colorbar\": {\"outlinewidth\": 0, \"ticks\": \"\"}, \"type\": \"choropleth\"}], \"contour\": [{\"colorbar\": {\"outlinewidth\": 0, \"ticks\": \"\"}, \"colorscale\": [[0.0, \"#0d0887\"], [0.1111111111111111, \"#46039f\"], [0.2222222222222222, \"#7201a8\"], [0.3333333333333333, \"#9c179e\"], [0.4444444444444444, \"#bd3786\"], [0.5555555555555556, \"#d8576b\"], [0.6666666666666666, \"#ed7953\"], [0.7777777777777778, \"#fb9f3a\"], [0.8888888888888888, \"#fdca26\"], [1.0, \"#f0f921\"]], \"type\": \"contour\"}], \"contourcarpet\": [{\"colorbar\": {\"outlinewidth\": 0, \"ticks\": \"\"}, \"type\": \"contourcarpet\"}], \"heatmap\": [{\"colorbar\": {\"outlinewidth\": 0, \"ticks\": \"\"}, \"colorscale\": [[0.0, \"#0d0887\"], [0.1111111111111111, \"#46039f\"], [0.2222222222222222, \"#7201a8\"], [0.3333333333333333, \"#9c179e\"], [0.4444444444444444, \"#bd3786\"], [0.5555555555555556, \"#d8576b\"], [0.6666666666666666, \"#ed7953\"], [0.7777777777777778, \"#fb9f3a\"], [0.8888888888888888, \"#fdca26\"], [1.0, \"#f0f921\"]], \"type\": \"heatmap\"}], \"heatmapgl\": [{\"colorbar\": {\"outlinewidth\": 0, \"ticks\": \"\"}, \"colorscale\": [[0.0, \"#0d0887\"], [0.1111111111111111, \"#46039f\"], [0.2222222222222222, \"#7201a8\"], [0.3333333333333333, \"#9c179e\"], [0.4444444444444444, \"#bd3786\"], [0.5555555555555556, \"#d8576b\"], [0.6666666666666666, \"#ed7953\"], [0.7777777777777778, \"#fb9f3a\"], [0.8888888888888888, \"#fdca26\"], [1.0, \"#f0f921\"]], \"type\": \"heatmapgl\"}], \"histogram\": [{\"marker\": {\"colorbar\": {\"outlinewidth\": 0, \"ticks\": \"\"}}, \"type\": \"histogram\"}], \"histogram2d\": [{\"colorbar\": {\"outlinewidth\": 0, \"ticks\": \"\"}, \"colorscale\": [[0.0, \"#0d0887\"], [0.1111111111111111, \"#46039f\"], [0.2222222222222222, \"#7201a8\"], [0.3333333333333333, \"#9c179e\"], [0.4444444444444444, \"#bd3786\"], [0.5555555555555556, \"#d8576b\"], [0.6666666666666666, \"#ed7953\"], [0.7777777777777778, \"#fb9f3a\"], [0.8888888888888888, \"#fdca26\"], [1.0, \"#f0f921\"]], \"type\": \"histogram2d\"}], \"histogram2dcontour\": [{\"colorbar\": {\"outlinewidth\": 0, \"ticks\": \"\"}, \"colorscale\": [[0.0, \"#0d0887\"], [0.1111111111111111, \"#46039f\"], [0.2222222222222222, \"#7201a8\"], [0.3333333333333333, \"#9c179e\"], [0.4444444444444444, \"#bd3786\"], [0.5555555555555556, \"#d8576b\"], [0.6666666666666666, \"#ed7953\"], [0.7777777777777778, \"#fb9f3a\"], [0.8888888888888888, \"#fdca26\"], [1.0, \"#f0f921\"]], \"type\": \"histogram2dcontour\"}], \"mesh3d\": [{\"colorbar\": {\"outlinewidth\": 0, \"ticks\": \"\"}, \"type\": \"mesh3d\"}], \"parcoords\": [{\"line\": {\"colorbar\": {\"outlinewidth\": 0, \"ticks\": \"\"}}, \"type\": \"parcoords\"}], \"pie\": [{\"automargin\": true, \"type\": \"pie\"}], \"scatter\": [{\"marker\": {\"colorbar\": {\"outlinewidth\": 0, \"ticks\": \"\"}}, \"type\": \"scatter\"}], \"scatter3d\": [{\"line\": {\"colorbar\": {\"outlinewidth\": 0, \"ticks\": \"\"}}, \"marker\": {\"colorbar\": {\"outlinewidth\": 0, \"ticks\": \"\"}}, \"type\": \"scatter3d\"}], \"scattercarpet\": [{\"marker\": {\"colorbar\": {\"outlinewidth\": 0, \"ticks\": \"\"}}, \"type\": \"scattercarpet\"}], \"scattergeo\": [{\"marker\": {\"colorbar\": {\"outlinewidth\": 0, \"ticks\": \"\"}}, \"type\": \"scattergeo\"}], \"scattergl\": [{\"marker\": {\"colorbar\": {\"outlinewidth\": 0, \"ticks\": \"\"}}, \"type\": \"scattergl\"}], \"scattermapbox\": [{\"marker\": {\"colorbar\": {\"outlinewidth\": 0, \"ticks\": \"\"}}, \"type\": \"scattermapbox\"}], \"scatterpolar\": [{\"marker\": {\"colorbar\": {\"outlinewidth\": 0, \"ticks\": \"\"}}, \"type\": \"scatterpolar\"}], \"scatterpolargl\": [{\"marker\": {\"colorbar\": {\"outlinewidth\": 0, \"ticks\": \"\"}}, \"type\": \"scatterpolargl\"}], \"scatterternary\": [{\"marker\": {\"colorbar\": {\"outlinewidth\": 0, \"ticks\": \"\"}}, \"type\": \"scatterternary\"}], \"surface\": [{\"colorbar\": {\"outlinewidth\": 0, \"ticks\": \"\"}, \"colorscale\": [[0.0, \"#0d0887\"], [0.1111111111111111, \"#46039f\"], [0.2222222222222222, \"#7201a8\"], [0.3333333333333333, \"#9c179e\"], [0.4444444444444444, \"#bd3786\"], [0.5555555555555556, \"#d8576b\"], [0.6666666666666666, \"#ed7953\"], [0.7777777777777778, \"#fb9f3a\"], [0.8888888888888888, \"#fdca26\"], [1.0, \"#f0f921\"]], \"type\": \"surface\"}], \"table\": [{\"cells\": {\"fill\": {\"color\": \"#EBF0F8\"}, \"line\": {\"color\": \"white\"}}, \"header\": {\"fill\": {\"color\": \"#C8D4E3\"}, \"line\": {\"color\": \"white\"}}, \"type\": \"table\"}]}, \"layout\": {\"annotationdefaults\": {\"arrowcolor\": \"#2a3f5f\", \"arrowhead\": 0, \"arrowwidth\": 1}, \"coloraxis\": {\"colorbar\": {\"outlinewidth\": 0, \"ticks\": \"\"}}, \"colorscale\": {\"diverging\": [[0, \"#8e0152\"], [0.1, \"#c51b7d\"], [0.2, \"#de77ae\"], [0.3, \"#f1b6da\"], [0.4, \"#fde0ef\"], [0.5, \"#f7f7f7\"], [0.6, \"#e6f5d0\"], [0.7, \"#b8e186\"], [0.8, \"#7fbc41\"], [0.9, \"#4d9221\"], [1, \"#276419\"]], \"sequential\": [[0.0, \"#0d0887\"], [0.1111111111111111, \"#46039f\"], [0.2222222222222222, \"#7201a8\"], [0.3333333333333333, \"#9c179e\"], [0.4444444444444444, \"#bd3786\"], [0.5555555555555556, \"#d8576b\"], [0.6666666666666666, \"#ed7953\"], [0.7777777777777778, \"#fb9f3a\"], [0.8888888888888888, \"#fdca26\"], [1.0, \"#f0f921\"]], \"sequentialminus\": [[0.0, \"#0d0887\"], [0.1111111111111111, \"#46039f\"], [0.2222222222222222, \"#7201a8\"], [0.3333333333333333, \"#9c179e\"], [0.4444444444444444, \"#bd3786\"], [0.5555555555555556, \"#d8576b\"], [0.6666666666666666, \"#ed7953\"], [0.7777777777777778, \"#fb9f3a\"], [0.8888888888888888, \"#fdca26\"], [1.0, \"#f0f921\"]]}, \"colorway\": [\"#636efa\", \"#EF553B\", \"#00cc96\", \"#ab63fa\", \"#FFA15A\", \"#19d3f3\", \"#FF6692\", \"#B6E880\", \"#FF97FF\", \"#FECB52\"], \"font\": {\"color\": \"#2a3f5f\"}, \"geo\": {\"bgcolor\": \"white\", \"lakecolor\": \"white\", \"landcolor\": \"#E5ECF6\", \"showlakes\": true, \"showland\": true, \"subunitcolor\": \"white\"}, \"hoverlabel\": {\"align\": \"left\"}, \"hovermode\": \"closest\", \"mapbox\": {\"style\": \"light\"}, \"paper_bgcolor\": \"white\", \"plot_bgcolor\": \"#E5ECF6\", \"polar\": {\"angularaxis\": {\"gridcolor\": \"white\", \"linecolor\": \"white\", \"ticks\": \"\"}, \"bgcolor\": \"#E5ECF6\", \"radialaxis\": {\"gridcolor\": \"white\", \"linecolor\": \"white\", \"ticks\": \"\"}}, \"scene\": {\"xaxis\": {\"backgroundcolor\": \"#E5ECF6\", \"gridcolor\": \"white\", \"gridwidth\": 2, \"linecolor\": \"white\", \"showbackground\": true, \"ticks\": \"\", \"zerolinecolor\": \"white\"}, \"yaxis\": {\"backgroundcolor\": \"#E5ECF6\", \"gridcolor\": \"white\", \"gridwidth\": 2, \"linecolor\": \"white\", \"showbackground\": true, \"ticks\": \"\", \"zerolinecolor\": \"white\"}, \"zaxis\": {\"backgroundcolor\": \"#E5ECF6\", \"gridcolor\": \"white\", \"gridwidth\": 2, \"linecolor\": \"white\", \"showbackground\": true, \"ticks\": \"\", \"zerolinecolor\": \"white\"}}, \"shapedefaults\": {\"line\": {\"color\": \"#2a3f5f\"}}, \"ternary\": {\"aaxis\": {\"gridcolor\": \"white\", \"linecolor\": \"white\", \"ticks\": \"\"}, \"baxis\": {\"gridcolor\": \"white\", \"linecolor\": \"white\", \"ticks\": \"\"}, \"bgcolor\": \"#E5ECF6\", \"caxis\": {\"gridcolor\": \"white\", \"linecolor\": \"white\", \"ticks\": \"\"}}, \"title\": {\"x\": 0.05}, \"xaxis\": {\"automargin\": true, \"gridcolor\": \"white\", \"linecolor\": \"white\", \"ticks\": \"\", \"title\": {\"standoff\": 15}, \"zerolinecolor\": \"white\", \"zerolinewidth\": 2}, \"yaxis\": {\"automargin\": true, \"gridcolor\": \"white\", \"linecolor\": \"white\", \"ticks\": \"\", \"title\": {\"standoff\": 15}, \"zerolinecolor\": \"white\", \"zerolinewidth\": 2}}}, \"title\": {\"text\": \"Total Cases vs GDP\"}, \"xaxis\": {\"anchor\": \"y\", \"domain\": [0.0, 1.0], \"title\": {\"text\": \"GDP_USD_Million\"}}, \"yaxis\": {\"anchor\": \"x\", \"domain\": [0.0, 1.0], \"title\": {\"text\": \"total_cases\"}}},\n",
              "                        {\"responsive\": true}\n",
              "                    ).then(function(){\n",
              "                            \n",
              "var gd = document.getElementById('d088def5-f154-44ea-94aa-10c1d6bd6d0f');\n",
              "var x = new MutationObserver(function (mutations, observer) {{\n",
              "        var display = window.getComputedStyle(gd).display;\n",
              "        if (!display || display === 'none') {{\n",
              "            console.log([gd, 'removed!']);\n",
              "            Plotly.purge(gd);\n",
              "            observer.disconnect();\n",
              "        }}\n",
              "}});\n",
              "\n",
              "// Listen for the removal of the full notebook cells\n",
              "var notebookContainer = gd.closest('#notebook-container');\n",
              "if (notebookContainer) {{\n",
              "    x.observe(notebookContainer, {childList: true});\n",
              "}}\n",
              "\n",
              "// Listen for the clearing of the current output cell\n",
              "var outputEl = gd.closest('.output');\n",
              "if (outputEl) {{\n",
              "    x.observe(outputEl, {childList: true});\n",
              "}}\n",
              "\n",
              "                        })\n",
              "                };\n",
              "                \n",
              "            </script>\n",
              "        </div>\n",
              "</body>\n",
              "</html>"
            ]
          },
          "metadata": {
            "tags": []
          }
        },
        {
          "output_type": "execute_result",
          "data": {
            "text/plain": [
              "Rank              -0.315420\n",
              "GDP_USD_Million    0.832602\n",
              "total_cases        1.000000\n",
              "Name: total_cases, dtype: float64"
            ]
          },
          "metadata": {
            "tags": []
          },
          "execution_count": 14
        }
      ]
    },
    {
      "cell_type": "markdown",
      "metadata": {
        "id": "y478-408FDFx",
        "colab_type": "text"
      },
      "source": [
        "### Saving GDP Feature File"
      ]
    },
    {
      "cell_type": "code",
      "metadata": {
        "id": "qGesDRFSK2Z4",
        "colab_type": "code",
        "colab": {}
      },
      "source": [
        "countries = gdp_dataframe['Country/Territory'].unique()\n",
        "country_gdp_dict = {}\n",
        "for country in countries:\n",
        "  country_gdp_dict[country] = gdp_dataframe[gdp_dataframe['Country/Territory'] == country]['GDP_USD_Million'].to_numpy()[0]\n",
        "# save file to permenant storage on drive.  \n",
        "save_dict_to_pickle(country_gdp_dict, STORAGE_DIR+\"gdp_dict.pickle\")"
      ],
      "execution_count": 0,
      "outputs": []
    },
    {
      "cell_type": "markdown",
      "metadata": {
        "id": "QO3IiJ7dGBWC",
        "colab_type": "text"
      },
      "source": [
        "## Trying out 2009 H1N1 Features.\n",
        "\n",
        "* In 2009, a simialr pandemic called `H1N1 flu pandemic` has occured. \n",
        "\n",
        "* There are **number of cases and deaths** obtained from Wikipedia. \n",
        "\n",
        "* We will check **if there is a correlation** between this old virus that envaded the planet and Today's virus envading it as well."
      ]
    },
    {
      "cell_type": "code",
      "metadata": {
        "id": "ooCSa6U1a7VL",
        "colab_type": "code",
        "outputId": "edf3ea00-8f98-4059-92ba-26f175bbf2ea",
        "colab": {
          "base_uri": "https://localhost:8080/",
          "height": 241
        }
      },
      "source": [
        "H1N1_FILE_PATH = \"/content/country_data_dataset/covid19_data - 2009_flu_pandemic.csv\"\n",
        "h1n1_dataframe = pd.read_csv(H1N1_FILE_PATH)\n",
        "h1n1_dataframe.head()"
      ],
      "execution_count": 20,
      "outputs": [
        {
          "output_type": "execute_result",
          "data": {
            "text/html": [
              "<div>\n",
              "<style scoped>\n",
              "    .dataframe tbody tr th:only-of-type {\n",
              "        vertical-align: middle;\n",
              "    }\n",
              "\n",
              "    .dataframe tbody tr th {\n",
              "        vertical-align: top;\n",
              "    }\n",
              "\n",
              "    .dataframe thead th {\n",
              "        text-align: right;\n",
              "    }\n",
              "</style>\n",
              "<table border=\"1\" class=\"dataframe\">\n",
              "  <thead>\n",
              "    <tr style=\"text-align: right;\">\n",
              "      <th></th>\n",
              "      <th>Country</th>\n",
              "      <th>Geographic_spread</th>\n",
              "      <th>Intensity</th>\n",
              "      <th>Impact_on_healthcare_services</th>\n",
              "      <th>Cases_underestimate</th>\n",
              "      <th>Cases_confirmed_clean</th>\n",
              "      <th>Deaths_confirmed_clean</th>\n",
              "    </tr>\n",
              "  </thead>\n",
              "  <tbody>\n",
              "    <tr>\n",
              "      <th>0</th>\n",
              "      <td>United States</td>\n",
              "      <td>W</td>\n",
              "      <td>**</td>\n",
              "      <td>mod</td>\n",
              "      <td>1</td>\n",
              "      <td>113,690</td>\n",
              "      <td>3,433</td>\n",
              "    </tr>\n",
              "    <tr>\n",
              "      <th>1</th>\n",
              "      <td>Brazil</td>\n",
              "      <td>R</td>\n",
              "      <td>*</td>\n",
              "      <td>mod</td>\n",
              "      <td>1</td>\n",
              "      <td>58,178</td>\n",
              "      <td>2,135</td>\n",
              "    </tr>\n",
              "    <tr>\n",
              "      <th>2</th>\n",
              "      <td>India</td>\n",
              "      <td>W</td>\n",
              "      <td>*</td>\n",
              "      <td>low</td>\n",
              "      <td>0</td>\n",
              "      <td>33,783</td>\n",
              "      <td>2,024</td>\n",
              "    </tr>\n",
              "    <tr>\n",
              "      <th>3</th>\n",
              "      <td>Mexico</td>\n",
              "      <td>W</td>\n",
              "      <td>**</td>\n",
              "      <td>mod</td>\n",
              "      <td>0</td>\n",
              "      <td>70,715</td>\n",
              "      <td>1,316</td>\n",
              "    </tr>\n",
              "    <tr>\n",
              "      <th>4</th>\n",
              "      <td>China</td>\n",
              "      <td>NaN</td>\n",
              "      <td>NaN</td>\n",
              "      <td>NaN</td>\n",
              "      <td>0</td>\n",
              "      <td>120,940</td>\n",
              "      <td>800</td>\n",
              "    </tr>\n",
              "  </tbody>\n",
              "</table>\n",
              "</div>"
            ],
            "text/plain": [
              "         Country Geographic_spread  ... Cases_confirmed_clean Deaths_confirmed_clean\n",
              "0  United States                 W  ...               113,690                  3,433\n",
              "1         Brazil                 R  ...                58,178                  2,135\n",
              "2          India                 W  ...                33,783                  2,024\n",
              "3         Mexico                 W  ...                70,715                  1,316\n",
              "4          China               NaN  ...               120,940                    800\n",
              "\n",
              "[5 rows x 7 columns]"
            ]
          },
          "metadata": {
            "tags": []
          },
          "execution_count": 20
        }
      ]
    },
    {
      "cell_type": "markdown",
      "metadata": {
        "id": "oezS0a3tG7p_",
        "colab_type": "text"
      },
      "source": [
        "### Adding Total Cases Column to Dataframe.\n",
        "\n",
        "* Additionally, Dropping useless columns and converting string columns to floats."
      ]
    },
    {
      "cell_type": "code",
      "metadata": {
        "id": "wQSJ5BaRjNl2",
        "colab_type": "code",
        "outputId": "cf5b619b-265d-4437-a6b1-29c7e1dc63a3",
        "colab": {
          "base_uri": "https://localhost:8080/",
          "height": 204
        }
      },
      "source": [
        "# add new total cases column.\n",
        "h1n1_dataframe['total_cases'] = h1n1_dataframe['Country'].map(matcher)\n",
        "# drop useless columns.\n",
        "h1n1_dataframe.drop(columns=['Geographic_spread',\n",
        "                               'Intensity',\n",
        "                               'Impact_on_healthcare_services',\n",
        "                               'Cases_underestimate'], inplace=True)\n",
        "# convert string cols to floats.\n",
        "h1n1_dataframe['Cases_confirmed_clean'] = h1n1_dataframe['Cases_confirmed_clean'].str.replace(',','').astype(float)\n",
        "h1n1_dataframe['Deaths_confirmed_clean'] = h1n1_dataframe['Deaths_confirmed_clean'].str.replace(',','').astype(float)\n",
        "h1n1_dataframe.head()"
      ],
      "execution_count": 22,
      "outputs": [
        {
          "output_type": "execute_result",
          "data": {
            "text/html": [
              "<div>\n",
              "<style scoped>\n",
              "    .dataframe tbody tr th:only-of-type {\n",
              "        vertical-align: middle;\n",
              "    }\n",
              "\n",
              "    .dataframe tbody tr th {\n",
              "        vertical-align: top;\n",
              "    }\n",
              "\n",
              "    .dataframe thead th {\n",
              "        text-align: right;\n",
              "    }\n",
              "</style>\n",
              "<table border=\"1\" class=\"dataframe\">\n",
              "  <thead>\n",
              "    <tr style=\"text-align: right;\">\n",
              "      <th></th>\n",
              "      <th>Country</th>\n",
              "      <th>Cases_confirmed_clean</th>\n",
              "      <th>Deaths_confirmed_clean</th>\n",
              "      <th>total_cases</th>\n",
              "    </tr>\n",
              "  </thead>\n",
              "  <tbody>\n",
              "    <tr>\n",
              "      <th>0</th>\n",
              "      <td>United States</td>\n",
              "      <td>113690.0</td>\n",
              "      <td>3433.0</td>\n",
              "      <td>1467884.0</td>\n",
              "    </tr>\n",
              "    <tr>\n",
              "      <th>1</th>\n",
              "      <td>Brazil</td>\n",
              "      <td>58178.0</td>\n",
              "      <td>2135.0</td>\n",
              "      <td>233142.0</td>\n",
              "    </tr>\n",
              "    <tr>\n",
              "      <th>2</th>\n",
              "      <td>India</td>\n",
              "      <td>33783.0</td>\n",
              "      <td>2024.0</td>\n",
              "      <td>90927.0</td>\n",
              "    </tr>\n",
              "    <tr>\n",
              "      <th>3</th>\n",
              "      <td>Mexico</td>\n",
              "      <td>70715.0</td>\n",
              "      <td>1316.0</td>\n",
              "      <td>47144.0</td>\n",
              "    </tr>\n",
              "    <tr>\n",
              "      <th>4</th>\n",
              "      <td>China</td>\n",
              "      <td>120940.0</td>\n",
              "      <td>800.0</td>\n",
              "      <td>84044.0</td>\n",
              "    </tr>\n",
              "  </tbody>\n",
              "</table>\n",
              "</div>"
            ],
            "text/plain": [
              "         Country  Cases_confirmed_clean  Deaths_confirmed_clean  total_cases\n",
              "0  United States               113690.0                  3433.0    1467884.0\n",
              "1         Brazil                58178.0                  2135.0     233142.0\n",
              "2          India                33783.0                  2024.0      90927.0\n",
              "3         Mexico                70715.0                  1316.0      47144.0\n",
              "4          China               120940.0                   800.0      84044.0"
            ]
          },
          "metadata": {
            "tags": []
          },
          "execution_count": 22
        }
      ]
    },
    {
      "cell_type": "markdown",
      "metadata": {
        "id": "fGToSowKH0yW",
        "colab_type": "text"
      },
      "source": [
        "### Correlation Between H1N1 Deaths and Total Cases \n",
        "\n",
        "* Plotting Scatter Plot.\n",
        "* Calculate correlation factor. (Value = 0.799)\n",
        "\n",
        "#### Observations: \n",
        "\n",
        "* There's a high correlation between them and GDP sounds as an effective feature to add for country features."
      ]
    },
    {
      "cell_type": "code",
      "metadata": {
        "id": "pbYHgESRjtE3",
        "colab_type": "code",
        "outputId": "d9a550c4-71ae-4ecf-dfd5-cf103c5b44c8",
        "colab": {
          "base_uri": "https://localhost:8080/",
          "height": 610
        }
      },
      "source": [
        "px.scatter(h1n1_dataframe,'Deaths_confirmed_clean','total_cases',title = \"COVID-19 2020 Confirmed vs H1N1 2009 Virus Deaths\").show()\n",
        "h1n1_dataframe[h1n1_dataframe.columns[:]].corr()['total_cases'][:]"
      ],
      "execution_count": 23,
      "outputs": [
        {
          "output_type": "display_data",
          "data": {
            "text/html": [
              "<html>\n",
              "<head><meta charset=\"utf-8\" /></head>\n",
              "<body>\n",
              "    <div>\n",
              "            <script src=\"https://cdnjs.cloudflare.com/ajax/libs/mathjax/2.7.5/MathJax.js?config=TeX-AMS-MML_SVG\"></script><script type=\"text/javascript\">if (window.MathJax) {MathJax.Hub.Config({SVG: {font: \"STIX-Web\"}});}</script>\n",
              "                <script type=\"text/javascript\">window.PlotlyConfig = {MathJaxConfig: 'local'};</script>\n",
              "        <script src=\"https://cdn.plot.ly/plotly-latest.min.js\"></script>    \n",
              "            <div id=\"6179eb16-232a-4cb6-a897-3eba85fb2141\" class=\"plotly-graph-div\" style=\"height:525px; width:100%;\"></div>\n",
              "            <script type=\"text/javascript\">\n",
              "                \n",
              "                    window.PLOTLYENV=window.PLOTLYENV || {};\n",
              "                    \n",
              "                if (document.getElementById(\"6179eb16-232a-4cb6-a897-3eba85fb2141\")) {\n",
              "                    Plotly.newPlot(\n",
              "                        '6179eb16-232a-4cb6-a897-3eba85fb2141',\n",
              "                        [{\"hoverlabel\": {\"namelength\": 0}, \"hovertemplate\": \"Deaths_confirmed_clean=%{x}<br>total_cases=%{y}\", \"legendgroup\": \"\", \"marker\": {\"color\": \"#636efa\", \"symbol\": \"circle\"}, \"mode\": \"markers\", \"name\": \"\", \"showlegend\": false, \"type\": \"scatter\", \"x\": [3433.0, 2135.0, 2024.0, 1316.0, 800.0, 656.0, 626.0, 604.0, 474.0, 429.0, 344.0, 300.0, 278.0, 258.0, 250.0, 249.0, 244.0, 272.0, 223.0, 213.0, 200.0, 198.0, 187.0, 181.0, 156.0, 152.0, 149.0, 147.0, 135.0, 134.0, 128.0, 122.0, 122.0, 102.0, 94.0, 93.0, 92.0, 88.0, 83.0, 80.0, 69.0, 67.0, 64.0, 62.0, 59.0, 58.0, 57.0, 56.0, 56.0, 54.0, 50.0, 48.0, 48.0, 46.0, 43.0, 42.0, 40.0, 40.0, 34.0, 33.0, 33.0, 33.0, 33.0, 33.0, 32.0, 31.0, 30.0, 30.0, 29.0, 29.0, 26.0, 26.0, 26.0, 25.0, 24.0, 24.0, 23.0, 23.0, 21.0, 21.0, 19.0, 19.0, 19.0, 18.0, 18.0, 17.0, 14.0, 13.0, 12.0, 12.0, 11.0, 10.0, 10.0, 10.0, 10.0, 8.0, 8.0, 7.0, 7.0, 7.0, 6.0, 6.0, 5.0, 5.0, 5.0, 5.0, 4.0, 3.0, 3.0, 3.0, 3.0, 3.0, 3.0, 2.0, 2.0, 2.0, 2.0, 2.0, 2.0, 2.0, 2.0, 2.0, 1.0, 1.0, 1.0, 1.0, 1.0, 1.0, 1.0, 1.0, 1.0, 1.0, 1.0, 1.0, 1.0, 0.0, 0.0, 0.0, 0.0, 0.0, 0.0, 0.0, 0.0, 0.0, 0.0, 0.0, 0.0, 0.0, 0.0, 0.0, 0.0, 0.0, 0.0, 0.0, 0.0, 0.0, 0.0, 0.0, 0.0, 0.0, 0.0, 0.0, 0.0, 0.0, 0.0, 0.0, 0.0, 0.0, 0.0, 0.0, 0.0, 0.0, 0.0, 0.0, 0.0, 0.0, 0.0, 0.0, 0.0, 0.0, 0.0, 0.0, 0.0, 0.0, 0.0, 0.0, 0.0, 0.0, 0.0, 0.0, 0.0, 0.0, 0.0, 0.0, 0.0, 0.0, 0.0, 0.0, 0.0], \"xaxis\": \"x\", \"y\": [1467884.0, 233142.0, 90927.0, 47144.0, 84044.0, 148067.0, 7792.0, 272043.0, 240161.0, 75853.0, 142291.0, 230698.0, 11719.0, 174355.0, 11050.0, 3028.0, 224760.0, 14939.0, 88541.0, 17858.0, 32763.0, 16285.0, 7036.0, 18257.0, 41428.0, 51.0, 2819.0, 118392.0, 504.0, 3509.0, 52016.0, 28810.0, 16704.0, 8455.0, 16608.0, 14355.0, 6872.0, 28681.0, 10496.0, 0.0, 1862.0, 853.0, 6741.0, 43870.0, 3826.0, 318.0, 6821.0, 6286.0, 1493.0, 778.0, 1149.0, 440.0, 960.0, 5934.0, null, 3260.0, 16140.0, 2211.0, 997.0, 5029.0, 695.0, 1265.0, 10858.0, 733.0, 12305.0, 124.0, 13802.0, 136.0, 8197.0, 29677.0, 24048.0, 1762.0, 2224.0, 40151.0, 1035.0, 1763.0, 11893.0, 1534.0, 27356.0, 1770.0, 54989.0, 607.0, 1465.0, 30489.0, 2565.0, 6402.0, 944.0, 2267.0, 9449.0, 933.0, 25.0, 17025.0, 30972.0, 914.0, null, 6747.0, 332.0, 20995.0, 517.0, 324.0, 122.0, 22627.0, 902.0, 546.0, 116.0, 1964.0, 96.0, 283.0, 5735.0, 3930.0, 291.0, 86.0, 4283.0, 1802.0, null, 141.0, null, 10.0, null, 129.0, 5621.0, null, 509.0, 65.0, 19.0, null, null, null, 16.0, null, 1078.0, null, null, null, null, null, 44.0, 679.0, null, 289.0, 830.0, 2429.0, 227.0, 18.0, null, 182.0, 328.0, null, 21.0, 358.0, null, 25.0, null, 1.0, null, 1138.0, 18.0, 889.0, null, null, null, 48.0, 16.0, 96.0, 11.0, 24.0, 835.0, 117.0, null, null, 11.0, null, 22.0, 306.0, null, 6157.0, null, 1322.0, 29.0, null, 3138.0, 8.0, null, 1331.0, null, 27.0, null, 83.0, 653.0, 202.0, 3292.0, 1320.0, null, 2658.0, null, 1357.0, 761.0, 474.0, 11.0], \"yaxis\": \"y\"}],\n",
              "                        {\"legend\": {\"tracegroupgap\": 0}, \"template\": {\"data\": {\"bar\": [{\"error_x\": {\"color\": \"#2a3f5f\"}, \"error_y\": {\"color\": \"#2a3f5f\"}, \"marker\": {\"line\": {\"color\": \"#E5ECF6\", \"width\": 0.5}}, \"type\": \"bar\"}], \"barpolar\": [{\"marker\": {\"line\": {\"color\": \"#E5ECF6\", \"width\": 0.5}}, \"type\": \"barpolar\"}], \"carpet\": [{\"aaxis\": {\"endlinecolor\": \"#2a3f5f\", \"gridcolor\": \"white\", \"linecolor\": \"white\", \"minorgridcolor\": \"white\", \"startlinecolor\": \"#2a3f5f\"}, \"baxis\": {\"endlinecolor\": \"#2a3f5f\", \"gridcolor\": \"white\", \"linecolor\": \"white\", \"minorgridcolor\": \"white\", \"startlinecolor\": \"#2a3f5f\"}, \"type\": \"carpet\"}], \"choropleth\": [{\"colorbar\": {\"outlinewidth\": 0, \"ticks\": \"\"}, \"type\": \"choropleth\"}], \"contour\": [{\"colorbar\": {\"outlinewidth\": 0, \"ticks\": \"\"}, \"colorscale\": [[0.0, \"#0d0887\"], [0.1111111111111111, \"#46039f\"], [0.2222222222222222, \"#7201a8\"], [0.3333333333333333, \"#9c179e\"], [0.4444444444444444, \"#bd3786\"], [0.5555555555555556, \"#d8576b\"], [0.6666666666666666, \"#ed7953\"], [0.7777777777777778, \"#fb9f3a\"], [0.8888888888888888, \"#fdca26\"], [1.0, \"#f0f921\"]], \"type\": \"contour\"}], \"contourcarpet\": [{\"colorbar\": {\"outlinewidth\": 0, \"ticks\": \"\"}, \"type\": \"contourcarpet\"}], \"heatmap\": [{\"colorbar\": {\"outlinewidth\": 0, \"ticks\": \"\"}, \"colorscale\": [[0.0, \"#0d0887\"], [0.1111111111111111, \"#46039f\"], [0.2222222222222222, \"#7201a8\"], [0.3333333333333333, \"#9c179e\"], [0.4444444444444444, \"#bd3786\"], [0.5555555555555556, \"#d8576b\"], [0.6666666666666666, \"#ed7953\"], [0.7777777777777778, \"#fb9f3a\"], [0.8888888888888888, \"#fdca26\"], [1.0, \"#f0f921\"]], \"type\": \"heatmap\"}], \"heatmapgl\": [{\"colorbar\": {\"outlinewidth\": 0, \"ticks\": \"\"}, \"colorscale\": [[0.0, \"#0d0887\"], [0.1111111111111111, \"#46039f\"], [0.2222222222222222, \"#7201a8\"], [0.3333333333333333, \"#9c179e\"], [0.4444444444444444, \"#bd3786\"], [0.5555555555555556, \"#d8576b\"], [0.6666666666666666, \"#ed7953\"], [0.7777777777777778, \"#fb9f3a\"], [0.8888888888888888, \"#fdca26\"], [1.0, \"#f0f921\"]], \"type\": \"heatmapgl\"}], \"histogram\": [{\"marker\": {\"colorbar\": {\"outlinewidth\": 0, \"ticks\": \"\"}}, \"type\": \"histogram\"}], \"histogram2d\": [{\"colorbar\": {\"outlinewidth\": 0, \"ticks\": \"\"}, \"colorscale\": [[0.0, \"#0d0887\"], [0.1111111111111111, \"#46039f\"], [0.2222222222222222, \"#7201a8\"], [0.3333333333333333, \"#9c179e\"], [0.4444444444444444, \"#bd3786\"], [0.5555555555555556, \"#d8576b\"], [0.6666666666666666, \"#ed7953\"], [0.7777777777777778, \"#fb9f3a\"], [0.8888888888888888, \"#fdca26\"], [1.0, \"#f0f921\"]], \"type\": \"histogram2d\"}], \"histogram2dcontour\": [{\"colorbar\": {\"outlinewidth\": 0, \"ticks\": \"\"}, \"colorscale\": [[0.0, \"#0d0887\"], [0.1111111111111111, \"#46039f\"], [0.2222222222222222, \"#7201a8\"], [0.3333333333333333, \"#9c179e\"], [0.4444444444444444, \"#bd3786\"], [0.5555555555555556, \"#d8576b\"], [0.6666666666666666, \"#ed7953\"], [0.7777777777777778, \"#fb9f3a\"], [0.8888888888888888, \"#fdca26\"], [1.0, \"#f0f921\"]], \"type\": \"histogram2dcontour\"}], \"mesh3d\": [{\"colorbar\": {\"outlinewidth\": 0, \"ticks\": \"\"}, \"type\": \"mesh3d\"}], \"parcoords\": [{\"line\": {\"colorbar\": {\"outlinewidth\": 0, \"ticks\": \"\"}}, \"type\": \"parcoords\"}], \"pie\": [{\"automargin\": true, \"type\": \"pie\"}], \"scatter\": [{\"marker\": {\"colorbar\": {\"outlinewidth\": 0, \"ticks\": \"\"}}, \"type\": \"scatter\"}], \"scatter3d\": [{\"line\": {\"colorbar\": {\"outlinewidth\": 0, \"ticks\": \"\"}}, \"marker\": {\"colorbar\": {\"outlinewidth\": 0, \"ticks\": \"\"}}, \"type\": \"scatter3d\"}], \"scattercarpet\": [{\"marker\": {\"colorbar\": {\"outlinewidth\": 0, \"ticks\": \"\"}}, \"type\": \"scattercarpet\"}], \"scattergeo\": [{\"marker\": {\"colorbar\": {\"outlinewidth\": 0, \"ticks\": \"\"}}, \"type\": \"scattergeo\"}], \"scattergl\": [{\"marker\": {\"colorbar\": {\"outlinewidth\": 0, \"ticks\": \"\"}}, \"type\": \"scattergl\"}], \"scattermapbox\": [{\"marker\": {\"colorbar\": {\"outlinewidth\": 0, \"ticks\": \"\"}}, \"type\": \"scattermapbox\"}], \"scatterpolar\": [{\"marker\": {\"colorbar\": {\"outlinewidth\": 0, \"ticks\": \"\"}}, \"type\": \"scatterpolar\"}], \"scatterpolargl\": [{\"marker\": {\"colorbar\": {\"outlinewidth\": 0, \"ticks\": \"\"}}, \"type\": \"scatterpolargl\"}], \"scatterternary\": [{\"marker\": {\"colorbar\": {\"outlinewidth\": 0, \"ticks\": \"\"}}, \"type\": \"scatterternary\"}], \"surface\": [{\"colorbar\": {\"outlinewidth\": 0, \"ticks\": \"\"}, \"colorscale\": [[0.0, \"#0d0887\"], [0.1111111111111111, \"#46039f\"], [0.2222222222222222, \"#7201a8\"], [0.3333333333333333, \"#9c179e\"], [0.4444444444444444, \"#bd3786\"], [0.5555555555555556, \"#d8576b\"], [0.6666666666666666, \"#ed7953\"], [0.7777777777777778, \"#fb9f3a\"], [0.8888888888888888, \"#fdca26\"], [1.0, \"#f0f921\"]], \"type\": \"surface\"}], \"table\": [{\"cells\": {\"fill\": {\"color\": \"#EBF0F8\"}, \"line\": {\"color\": \"white\"}}, \"header\": {\"fill\": {\"color\": \"#C8D4E3\"}, \"line\": {\"color\": \"white\"}}, \"type\": \"table\"}]}, \"layout\": {\"annotationdefaults\": {\"arrowcolor\": \"#2a3f5f\", \"arrowhead\": 0, \"arrowwidth\": 1}, \"coloraxis\": {\"colorbar\": {\"outlinewidth\": 0, \"ticks\": \"\"}}, \"colorscale\": {\"diverging\": [[0, \"#8e0152\"], [0.1, \"#c51b7d\"], [0.2, \"#de77ae\"], [0.3, \"#f1b6da\"], [0.4, \"#fde0ef\"], [0.5, \"#f7f7f7\"], [0.6, \"#e6f5d0\"], [0.7, \"#b8e186\"], [0.8, \"#7fbc41\"], [0.9, \"#4d9221\"], [1, \"#276419\"]], \"sequential\": [[0.0, \"#0d0887\"], [0.1111111111111111, \"#46039f\"], [0.2222222222222222, \"#7201a8\"], [0.3333333333333333, \"#9c179e\"], [0.4444444444444444, \"#bd3786\"], [0.5555555555555556, \"#d8576b\"], [0.6666666666666666, \"#ed7953\"], [0.7777777777777778, \"#fb9f3a\"], [0.8888888888888888, \"#fdca26\"], [1.0, \"#f0f921\"]], \"sequentialminus\": [[0.0, \"#0d0887\"], [0.1111111111111111, \"#46039f\"], [0.2222222222222222, \"#7201a8\"], [0.3333333333333333, \"#9c179e\"], [0.4444444444444444, \"#bd3786\"], [0.5555555555555556, \"#d8576b\"], [0.6666666666666666, \"#ed7953\"], [0.7777777777777778, \"#fb9f3a\"], [0.8888888888888888, \"#fdca26\"], [1.0, \"#f0f921\"]]}, \"colorway\": [\"#636efa\", \"#EF553B\", \"#00cc96\", \"#ab63fa\", \"#FFA15A\", \"#19d3f3\", \"#FF6692\", \"#B6E880\", \"#FF97FF\", \"#FECB52\"], \"font\": {\"color\": \"#2a3f5f\"}, \"geo\": {\"bgcolor\": \"white\", \"lakecolor\": \"white\", \"landcolor\": \"#E5ECF6\", \"showlakes\": true, \"showland\": true, \"subunitcolor\": \"white\"}, \"hoverlabel\": {\"align\": \"left\"}, \"hovermode\": \"closest\", \"mapbox\": {\"style\": \"light\"}, \"paper_bgcolor\": \"white\", \"plot_bgcolor\": \"#E5ECF6\", \"polar\": {\"angularaxis\": {\"gridcolor\": \"white\", \"linecolor\": \"white\", \"ticks\": \"\"}, \"bgcolor\": \"#E5ECF6\", \"radialaxis\": {\"gridcolor\": \"white\", \"linecolor\": \"white\", \"ticks\": \"\"}}, \"scene\": {\"xaxis\": {\"backgroundcolor\": \"#E5ECF6\", \"gridcolor\": \"white\", \"gridwidth\": 2, \"linecolor\": \"white\", \"showbackground\": true, \"ticks\": \"\", \"zerolinecolor\": \"white\"}, \"yaxis\": {\"backgroundcolor\": \"#E5ECF6\", \"gridcolor\": \"white\", \"gridwidth\": 2, \"linecolor\": \"white\", \"showbackground\": true, \"ticks\": \"\", \"zerolinecolor\": \"white\"}, \"zaxis\": {\"backgroundcolor\": \"#E5ECF6\", \"gridcolor\": \"white\", \"gridwidth\": 2, \"linecolor\": \"white\", \"showbackground\": true, \"ticks\": \"\", \"zerolinecolor\": \"white\"}}, \"shapedefaults\": {\"line\": {\"color\": \"#2a3f5f\"}}, \"ternary\": {\"aaxis\": {\"gridcolor\": \"white\", \"linecolor\": \"white\", \"ticks\": \"\"}, \"baxis\": {\"gridcolor\": \"white\", \"linecolor\": \"white\", \"ticks\": \"\"}, \"bgcolor\": \"#E5ECF6\", \"caxis\": {\"gridcolor\": \"white\", \"linecolor\": \"white\", \"ticks\": \"\"}}, \"title\": {\"x\": 0.05}, \"xaxis\": {\"automargin\": true, \"gridcolor\": \"white\", \"linecolor\": \"white\", \"ticks\": \"\", \"title\": {\"standoff\": 15}, \"zerolinecolor\": \"white\", \"zerolinewidth\": 2}, \"yaxis\": {\"automargin\": true, \"gridcolor\": \"white\", \"linecolor\": \"white\", \"ticks\": \"\", \"title\": {\"standoff\": 15}, \"zerolinecolor\": \"white\", \"zerolinewidth\": 2}}}, \"title\": {\"text\": \"COVID-19 2020 Confirmed vs H1N1 2009 Virus Deaths\"}, \"xaxis\": {\"anchor\": \"y\", \"domain\": [0.0, 1.0], \"title\": {\"text\": \"Deaths_confirmed_clean\"}}, \"yaxis\": {\"anchor\": \"x\", \"domain\": [0.0, 1.0], \"title\": {\"text\": \"total_cases\"}}},\n",
              "                        {\"responsive\": true}\n",
              "                    ).then(function(){\n",
              "                            \n",
              "var gd = document.getElementById('6179eb16-232a-4cb6-a897-3eba85fb2141');\n",
              "var x = new MutationObserver(function (mutations, observer) {{\n",
              "        var display = window.getComputedStyle(gd).display;\n",
              "        if (!display || display === 'none') {{\n",
              "            console.log([gd, 'removed!']);\n",
              "            Plotly.purge(gd);\n",
              "            observer.disconnect();\n",
              "        }}\n",
              "}});\n",
              "\n",
              "// Listen for the removal of the full notebook cells\n",
              "var notebookContainer = gd.closest('#notebook-container');\n",
              "if (notebookContainer) {{\n",
              "    x.observe(notebookContainer, {childList: true});\n",
              "}}\n",
              "\n",
              "// Listen for the clearing of the current output cell\n",
              "var outputEl = gd.closest('.output');\n",
              "if (outputEl) {{\n",
              "    x.observe(outputEl, {childList: true});\n",
              "}}\n",
              "\n",
              "                        })\n",
              "                };\n",
              "                \n",
              "            </script>\n",
              "        </div>\n",
              "</body>\n",
              "</html>"
            ]
          },
          "metadata": {
            "tags": []
          }
        },
        {
          "output_type": "execute_result",
          "data": {
            "text/plain": [
              "Cases_confirmed_clean     0.185592\n",
              "Deaths_confirmed_clean    0.799720\n",
              "total_cases               1.000000\n",
              "Name: total_cases, dtype: float64"
            ]
          },
          "metadata": {
            "tags": []
          },
          "execution_count": 23
        }
      ]
    },
    {
      "cell_type": "markdown",
      "metadata": {
        "id": "N4ZcRGGfIIxN",
        "colab_type": "text"
      },
      "source": [
        "### Saving H1N1 Features File"
      ]
    },
    {
      "cell_type": "code",
      "metadata": {
        "id": "n5TjaHHMlAey",
        "colab_type": "code",
        "colab": {}
      },
      "source": [
        "countries = h1n1_dataframe['Country'].unique()\n",
        "country_deaths_flu_2009_dict = {}\n",
        "country_cases_flu_2009_dict = {}\n",
        "for country in countries:\n",
        "  country_deaths_flu_2009_dict[country] = h1n1_dataframe[h1n1_dataframe['Country'] == country]['Deaths_confirmed_clean'].to_numpy()[0]\n",
        "  country_cases_flu_2009_dict[country] = h1n1_dataframe[h1n1_dataframe['Country'] == country]['Cases_confirmed_clean'].to_numpy()[0]\n",
        "# save file to permenant storage on drive.  \n",
        "save_dict_to_pickle(country_deaths_flu_2009_dict, STORAGE_DIR+\"deaths_flu_2009.pickle\")\n",
        "save_dict_to_pickle(country_cases_flu_2009_dict, STORAGE_DIR+\"cases_flu_2009.pickle\")"
      ],
      "execution_count": 0,
      "outputs": []
    },
    {
      "cell_type": "markdown",
      "metadata": {
        "id": "7M8Z3X8iIcDS",
        "colab_type": "text"
      },
      "source": [
        "## Summary\n",
        "\n",
        "We tried other features in this dataset, but with no good correlation numbers thus we will use only those 2 new features to add to our Model Class 2 Dataset. \n",
        "\n",
        "GDP and H1N1 Virus Cases showed high correlations and increased the Model efficeny by some magnitude."
      ]
    }
  ]
}