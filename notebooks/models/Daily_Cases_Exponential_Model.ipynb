{
 "cells": [
  {
   "cell_type": "markdown",
   "metadata": {
    "colab_type": "text",
    "id": "kIEi_jY74bB-"
   },
   "source": [
    "**Exponential Model.**\n",
    "\n",
    "In this notebook data of a number of countries is used to train a model per each country to be used to predict the daily cases on a specifc day."
   ]
  },
  {
   "cell_type": "code",
   "execution_count": 0,
   "metadata": {
    "colab": {},
    "colab_type": "code",
    "id": "7Me0YR6r3RVC"
   },
   "outputs": [],
   "source": [
    "# Importing Libraries\n",
    "import pickle\n",
    "import numpy as np\n",
    "import math\n",
    "from google.colab import drive\n",
    "from scipy.optimize import curve_fit\n",
    "import matplotlib.pyplot as plt"
   ]
  },
  {
   "cell_type": "markdown",
   "metadata": {
    "colab_type": "text",
    "id": "t5Ax-nZP5X0k"
   },
   "source": [
    "Connceting to google Drive to Read the dataset."
   ]
  },
  {
   "cell_type": "code",
   "execution_count": 54,
   "metadata": {
    "colab": {
     "base_uri": "https://localhost:8080/",
     "height": 33
    },
    "colab_type": "code",
    "id": "j_mv-co34raF",
    "outputId": "fda8ca54-fb56-43d7-c928-b8b9ae016bed"
   },
   "outputs": [
    {
     "name": "stdout",
     "output_type": "stream",
     "text": [
      "Drive already mounted at /content/drive; to attempt to forcibly remount, call drive.mount(\"/content/drive\", force_remount=True).\n"
     ]
    }
   ],
   "source": [
    "drive.mount('/content/drive')\n",
    "DATA_PATH = \"/content/drive/My Drive\"\n",
    "file = open(DATA_PATH+'/new_cases_dict.pickle','rb')\n",
    "dataset = pickle.load(file)\n"
   ]
  },
  {
   "cell_type": "markdown",
   "metadata": {
    "colab_type": "text",
    "id": "scqjJFHVAHn2"
   },
   "source": [
    "Defining the functions that will be used later in traing, testing the model , predicting new values in the testing phase and to calculate the mean square error. "
   ]
  },
  {
   "cell_type": "code",
   "execution_count": 0,
   "metadata": {
    "colab": {},
    "colab_type": "code",
    "id": "x6xB4Mc-AI8f"
   },
   "outputs": [],
   "source": [
    "# this function returns the value of the exponential function F(X) = a*e^(b*X)\n",
    "def func_exp(x, a, b):           \n",
    "        return a * np.exp(b * x) \n",
    "# This function is used to train the model and returns the model parammeters (a and b)\n",
    "def exponential_regression (x_data, y_data):    \n",
    "    popt, pcov = curve_fit(func_exp, x_data, y_data, p0 = (-1, 1e-6))\n",
    "    print(popt)\n",
    "    puntos = plt.plot(x_data, y_data, 'x', color='xkcd:maroon', label = \"data\")\n",
    "    curva_regresion = plt.plot(x_data, func_exp(x_data, *popt), color='xkcd:teal', label = \"fit: {:.3f}, {:.3f}, {:.3f}\".format(*popt))\n",
    "    plt.legend()\n",
    "    plt.show()\n",
    "    return func_exp(x_data, *popt)\n",
    "#this function is used to predict new values of the of cases in the testing phase\n",
    "def func_predict(a,b,x):\n",
    "        return (a*math.exp(b*x))\n",
    "# this function is used to calculate the mean square error for the testing phase\n",
    "def func_MeanSquareError(Y_true,Y_pred,a,b):\n",
    "  squareSum=0\n",
    "  for i in range(len(Y_true)):\n",
    "    squareSum+=math.pow((abs(Y_true[i])-abs(Y_pred[i])),2)\n",
    "  return  squareSum/len(Y_true)\n"
   ]
  },
  {
   "cell_type": "markdown",
   "metadata": {
    "colab_type": "text",
    "id": "Yg0xbsFg5tjO"
   },
   "source": [
    "Extracting Italy's *DataSet* from the datasets dictionary and then cleaning it by removing the unwanted records, and the the data is normalized to be in range 0 to 1,which will give us better results and the the data is splitted into trainin and testing datasets."
   ]
  },
  {
   "cell_type": "code",
   "execution_count": 56,
   "metadata": {
    "colab": {
     "base_uri": "https://localhost:8080/",
     "height": 67
    },
    "colab_type": "code",
    "id": "9hE_nB_L5W77",
    "outputId": "f4ac3eea-ddaa-4384-bd7a-3e63cb9112e1"
   },
   "outputs": [
    {
     "name": "stdout",
     "output_type": "stream",
     "text": [
      "26\n",
      "10\n",
      "[0.6416043922525545, 0.8116516699710233, 0.9129174927558334, 1.0, 0.9036242483341459, 0.7783195189338534, 0.85307979847229, 0.8467414269462051, 1.0, 1.0]\n"
     ]
    }
   ],
   "source": [
    "italy=dataset.get(\"Italy\")            #Extracting Italy's data from the dataset dictionary\n",
    "italy=np.delete(italy,0,axis=1)       #Deleting the extra ad unused dimensionality from Italy's Data set\n",
    "italy=italy[53:len(italy)-50]        #Cleaning Italy's Dataset (Removing unwanted Records) and converting the arraylist to a numpy array\n",
    "\n",
    "for i in range(len(italy)):            #Normalizing the  dataset so all the values are from 0 to 1 using the equation x=(x-min(x))/(max(x)-min(x))\n",
    "    italy[i]=(italy[i]-min(italy))/(max(italy)-min(italy))\n",
    "# Initializing \n",
    "italyTrain=[]                        # Initializing an empty list to be used for the  training dataset to train the model     \n",
    "italyTest=[]                         # Initializing an empty list to be used for the  Testing dataset to test the model\n",
    "italyTestDays=[]                     # Initializing an empty list to be used for the  Testing dataset to Test the model (converting dates into days)\n",
    "italyPredict=[]                      # Initializing an empty list to be used for predictions that results from the testing stage\n",
    "\n",
    "#Splitting the dataset into trainig dataset and testing dataset\n",
    "for i in range(len(italy)):                 \n",
    "  if(i<len(italy)-10):\n",
    "    italyTrain.append(italy[i][0])\n",
    "  else:\n",
    "    italyTest.append(italy[i][0])\n",
    "    italyTestDays.append(i)\n",
    "\n",
    "italyTrain=np.asarray(italyTrain)     #Converting Trainig list into numpy array          \n",
    "print(len(italyTrain))\n",
    "print(len(italyTest))\n",
    "print(italyTest)"
   ]
  },
  {
   "cell_type": "markdown",
   "metadata": {
    "colab_type": "text",
    "id": "GX2fOvhx9Q_C"
   },
   "source": [
    "Extracting Germany's *DataSet* from the datasets dictionary ,and then cleaning it by removing the unwanted records, and the the data is normalized to be in range 0 to 1,which will give us better results and the the data is splitted into trainin and testing datasets."
   ]
  },
  {
   "cell_type": "code",
   "execution_count": 57,
   "metadata": {
    "colab": {
     "base_uri": "https://localhost:8080/",
     "height": 67
    },
    "colab_type": "code",
    "id": "8JBpH1k09PYM",
    "outputId": "2750a1dd-459b-4433-9072-58430fb9ba58"
   },
   "outputs": [
    {
     "name": "stdout",
     "output_type": "stream",
     "text": [
      "43\n",
      "10\n",
      "[0.7520195378545933, 0.9344354687206462, 1.0, 1.0, 0.8346153846153846, 0.7505917159763313, 0.6159763313609468, 0.7355029585798817, 0.8479289940828403, 1.0]\n"
     ]
    }
   ],
   "source": [
    "germany=dataset.get(\"Germany\")            #Extracting Germany's data from the dataset dictionary\n",
    "germany=np.delete(germany,0,axis=1)       #Deleting the extra ad unused dimensionality from Germany's Data set\n",
    "germany=germany[56:len(germany)-30]        #Cleaning Germany's Dataset (Removing unwanted Records) and converting the arraylist into a numpy array\n",
    "\n",
    "for i in range(len(germany)):            #Normalizing the  dataset so all the values are from 0 to 1 using the equation x=(x-min(x))/(max(x)-min(x))\n",
    "    germany[i]=(germany[i]-min(germany))/(max(germany)-min(germany))\n",
    "# Initializing \n",
    "germanyTrain=[]                        # Initializing an empty list to be used for the  training dataset to train the model     \n",
    "germanyTest=[]                         # Initializing an empty list to be used for the  Testing dataset to test the model\n",
    "germanyTestDays=[]                     # Initializing an empty list to be used for the  Testing dataset to Test the model (converting dates into days)\n",
    "germanyPredict=[]                      # Initializing an empty list to be used for predictions that results from the testing stage\n",
    "\n",
    "#Splitting the dataset into trainig dataset and testing dataset\n",
    "for i in range(len(germany)):                 \n",
    "  if(i<len(germany)-10):\n",
    "    germanyTrain.append(germany[i][0])\n",
    "  else:\n",
    "    germanyTest.append(germany[i][0])\n",
    "    germanyTestDays.append(i)\n",
    "\n",
    "germanyTrain=np.asarray(germanyTrain)     #Converting Trainig list into numpy array          \n",
    "print(len(germanyTrain))\n",
    "print(len(germanyTest))\n",
    "print(germanyTest)"
   ]
  },
  {
   "cell_type": "markdown",
   "metadata": {
    "colab_type": "text",
    "id": "77DwZrSg-GHp"
   },
   "source": [
    "Extracting France's *DataSet* from the datasets dictionary and then cleaning it by removing the unwanted records, and the the data is normalized to be in range 0 to 1,which will give us better results and the the data is splitted into trainin and testing datasets."
   ]
  },
  {
   "cell_type": "code",
   "execution_count": 65,
   "metadata": {
    "colab": {
     "base_uri": "https://localhost:8080/",
     "height": 67
    },
    "colab_type": "code",
    "id": "nGvKebD2-NU0",
    "outputId": "4bebd669-95fe-487e-9e81-7586d165f070"
   },
   "outputs": [
    {
     "name": "stdout",
     "output_type": "stream",
     "text": [
      "33\n",
      "10\n",
      "[0.5774610715228292, 1.0, 0.9289126695967896, 0.40435696541180965, 1.0, 1.0, 0.4787832310838446, 1.0, 0.9732027827879413, 1.0]\n"
     ]
    }
   ],
   "source": [
    "france=dataset.get(\"France\")            #Extracting France's data from the dataset dictionary\n",
    "france=np.delete(france,0,axis=1)       #Deleting the extra ad unused dimensionality from France's Data set\n",
    "france=france[58:len(france)-38]        #Cleaning France's Dataset (Removing unwanted Records) and converting the arraylist into a numpy array\n",
    "\n",
    "for i in range(len(france)):            #Normalizing the  dataset so all the values are from 0 to 1 using the equation x=(x-min(x))/(max(x)-min(x))\n",
    "    france[i]=(france[i]-min(france))/(max(france)-min(france))\n",
    "# Initializing \n",
    "franceTrain=[]                        # Initializing an empty list to be used for the  training dataset to train the model     \n",
    "franceTest=[]                         # Initializing an empty list to be used for the  Testing dataset to test the model\n",
    "franceTestDays=[]                     # Initializing an empty list to be used for the  Testing dataset to Test the model (converting dates into days)\n",
    "francePredict=[]                      # Initializing an empty list to be used for predictions that results from the testing stage\n",
    "\n",
    "#Splitting the dataset into trainig dataset and testing dataset\n",
    "for i in range(len(france)):                 \n",
    "  if(i<len(france)-10):\n",
    "    franceTrain.append(france[i][0])\n",
    "  else:\n",
    "    franceTest.append(france[i][0])\n",
    "    franceTestDays.append(i)\n",
    "\n",
    "franceTrain=np.asarray(franceTrain)     #Converting Trainig list into numpy array          \n",
    "print(len(franceTrain))\n",
    "print(len(franceTest))\n",
    "print(franceTest)"
   ]
  },
  {
   "cell_type": "markdown",
   "metadata": {
    "colab_type": "text",
    "id": "hhHPxBOjJx4K"
   },
   "source": [
    " **Traing And Testing Italy's Model**\n",
    "The normalized points are fitted to a curve against the days and then fitted curve is being plotted to be displayed as a curve.\n",
    "Then the model is tested.Firstly the testing data is being used to predict the new weighted number of cases by using the Predict function, then the Mean Square Error is calculated .\n",
    "\n",
    "The Model Parameters:\n",
    "\n",
    "a= 0.023.\n",
    "\n",
    "b=0.132.\n",
    "\n",
    "Mean Square Error = 0.198\n"
   ]
  },
  {
   "cell_type": "code",
   "execution_count": 59,
   "metadata": {
    "colab": {
     "base_uri": "https://localhost:8080/",
     "height": 345
    },
    "colab_type": "code",
    "id": "Mux3GzQvChov",
    "outputId": "77da43e7-3b33-4fa0-a14d-a15c96168a80"
   },
   "outputs": [
    {
     "data": {
      "image/png": "[encoded data removed]",
      "text/plain": [
       "<Figure size 432x288 with 1 Axes>"
      ]
     },
     "metadata": {
      "needs_background": "light",
      "tags": []
     },
     "output_type": "display_data"
    },
    {
     "name": "stdout",
     "output_type": "stream",
     "text": [
      "The equation of regression line is y=0.023e^(0.132x)\n",
      "a= 0.023     b= 0.132\n",
      "Mean Square Error =  0.47426247208759725\n"
     ]
    }
   ],
   "source": [
    "day=np.arange(0, len(italyTrain))                                           # Setting the range of the Days\n",
    "popt, pcov = curve_fit(func_exp, day, italyTrain, p0=[1, 1e-6])             # Training Italy's Model\n",
    "# Plotting The Model \n",
    "x_plot=np.linspace(0,25,100)\n",
    "plt.plot(x_plot, func_exp(x_plot, *popt), 'r')                               #Plotting the weights of Fitted model curve against the days\n",
    "plt.scatter(day,italyTrain,label='Day vs Weight')                            #Scattering the points to be drawn on the chart\n",
    "plt.title(\"Day vs Weight a*e^bx\")                                           # Adding Title to the chart\n",
    "plt.xlabel('Day')                                                            # Adding label to the X-axis\n",
    "plt.ylabel('Weight')                                                         # Adding label to the Y-axis\n",
    "plt.legend()                                                                 # Adding Legends to the Chart \n",
    "plt.show()                                                                   # Displaying the Italy's model output chart\n",
    "# Extracting model Parameters for the equation f(x)= a*e^(b*x)\n",
    "a=popt[0].round(3)                                                          #Getting the value of a rounded to 3 decimal places\n",
    "b=popt[1].round(3)                                                          #Getting the value of b rounded to 3 decimal places\n",
    "\n",
    "for i in range(len(italyTestDays)):               \n",
    "  italyPredict.append(func_predict(a,b,italyTestDays[i]))\n",
    "print(f'The equation of regression line is y={a}e^({b}x)')\n",
    "\n",
    "print('a=',a,'    b=',b)                                                    # Displaying Model Parameters (a and b)\n",
    "\n",
    "MeanSquareError=func_MeanSquareError(italyTest,italyPredict,a,b)            #Calculating the Mean square error\n",
    "print('Mean Square Error = ',MeanSquareError)                               # Displaying the Mean Square Error\n"
   ]
  },
  {
   "cell_type": "markdown",
   "metadata": {
    "colab_type": "text",
    "id": "4oUk2oX_KhVp"
   },
   "source": [
    "**Traing And Testing Germany's Model**\n",
    "\n",
    "The normalized points are fitted to a curve against the days and then fitted curve is being plotted to be displayed as a curve.\n",
    "Then the model is tested.Firstly the testing data is being used to predict the new weighted number of cases by using the Predict function, then the Mean Square Error is calculated .\n",
    "\n",
    "The Model Parameters: \n",
    "\n",
    "a= 0.079    \n",
    "\n",
    "b= 0.063\n",
    "\n",
    "Mean Square Error = 0.675\n",
    "\n"
   ]
  },
  {
   "cell_type": "code",
   "execution_count": 60,
   "metadata": {
    "colab": {
     "base_uri": "https://localhost:8080/",
     "height": 345
    },
    "colab_type": "code",
    "id": "yWZK5cZ8Kxcj",
    "outputId": "27ae6a0e-d6e6-4d43-e834-39658be2c3ca"
   },
   "outputs": [
    {
     "data": {
      "image/png": "[encoded data removed]",
      "text/plain": [
       "<Figure size 432x288 with 1 Axes>"
      ]
     },
     "metadata": {
      "needs_background": "light",
      "tags": []
     },
     "output_type": "display_data"
    },
    {
     "name": "stdout",
     "output_type": "stream",
     "text": [
      "The equation of regression line is y=0.079e^(0.063x)\n",
      "a= 0.079     b= 0.063\n",
      "Mean Square Error =  0.6752353062656281\n"
     ]
    }
   ],
   "source": [
    "day=np.arange(0, len(germanyTrain))                                           # Setting the range of the Days\n",
    "popt, pcov = curve_fit(func_exp, day, germanyTrain, p0=[1, 1e-6])             # Training Germany's Model\n",
    "# Plotting The Model \n",
    "x_plot=np.linspace(0,40,100)\n",
    "plt.plot(x_plot, func_exp(x_plot, *popt), 'r')                               #Plotting the weights of Fitted model curve against the days\n",
    "plt.scatter(day,germanyTrain,label='Day vs Weight')                            #Scattering the points to be drawn on the chart\n",
    "plt.title(\"Day vs Weight a*e^bx\")                                           # Adding Title to the chart\n",
    "plt.xlabel('Day')                                                            # Adding label to the X-axis\n",
    "plt.ylabel('Weight')                                                         # Adding label to the Y-axis\n",
    "plt.legend()                                                                 # Adding Legends to the Chart \n",
    "plt.show()                                                                   # Displaying the Germany's model output chart\n",
    "# Extracting model Parameters for the equation f(x)= a*e^(b*x)\n",
    "a=popt[0].round(3)                                                          #Getting the value of a rounded to 3 decimal places\n",
    "b=popt[1].round(3)                                                          #Getting the value of b rounded to 3 decimal places\n",
    "\n",
    "for i in range(len(germanyTestDays)):               \n",
    "  germanyPredict.append(func_predict(a,b,germanyTestDays[i]))\n",
    "print(f'The equation of regression line is y={a}e^({b}x)')\n",
    "\n",
    "print('a=',a,'    b=',b)                                                    # Displaying Model Parameters (a and b)\n",
    "\n",
    "MeanSquareError=func_MeanSquareError(germanyTest,germanyPredict,a,b)            #Calculating the Mean square error\n",
    "print('Mean Square Error = ',MeanSquareError)                               # Displaying the Mean Square Error\n"
   ]
  },
  {
   "cell_type": "markdown",
   "metadata": {
    "colab_type": "text",
    "id": "aYUuQ4ytO3m-"
   },
   "source": [
    "**Training And Testing France’s Model**\n",
    "\n",
    "The normalized points are fitted to a curve against the days and then fitted curve is being plotted to be displayed as a curve.\n",
    "Then the model is tested.Firstly the testing data is being used to predict the new weighted number of cases by using the Predict function, then the Mean Square Error is calculated .\n",
    "\n",
    "The Model Parameters: \n",
    "\n",
    "a= 0.02.\n",
    "\n",
    "b=0.105.\n",
    "\n",
    "Mean Square Error = 0.164.\n",
    "\n"
   ]
  },
  {
   "cell_type": "code",
   "execution_count": 69,
   "metadata": {
    "colab": {
     "base_uri": "https://localhost:8080/",
     "height": 345
    },
    "colab_type": "code",
    "id": "1rCmiHadPG5x",
    "outputId": "c718ef73-e85d-4f0a-e1e5-19ce1ec3a074"
   },
   "outputs": [
    {
     "data": {
      "image/png": "[encoded data removed]",
      "text/plain": [
       "<Figure size 432x288 with 1 Axes>"
      ]
     },
     "metadata": {
      "needs_background": "light",
      "tags": []
     },
     "output_type": "display_data"
    },
    {
     "name": "stdout",
     "output_type": "stream",
     "text": [
      "The equation of regression line is y=0.02e^(0.105x)\n",
      "a= 0.02     b= 0.105\n",
      "Mean Square Error =  0.16448190765314333\n"
     ]
    }
   ],
   "source": [
    "day=np.arange(0, len(franceTrain))                                           # Setting the range of the Days\n",
    "popt, pcov = curve_fit(func_exp, day, franceTrain, p0=[1, 1e-6])             # Training France's Model\n",
    "# Plotting The Model \n",
    "x_plot=np.linspace(0,35,100)\n",
    "plt.plot(x_plot, func_exp(x_plot, *popt), 'r')                               #Plotting the weights of Fitted model curve against the days\n",
    "plt.scatter(day,franceTrain,label='Day vs Weight')                            #Scattering the points to be drawn on the chart\n",
    "plt.title(\"Day vs Weight a*e^bx\")                                           # Adding Title to the chart\n",
    "plt.xlabel('Day')                                                            # Adding label to the X-axis\n",
    "plt.ylabel('Weight')                                                         # Adding label to the Y-axis\n",
    "plt.legend()                                                                 # Adding Legends to the Chart \n",
    "plt.show()                                                                   # Displaying the France's model output chart\n",
    "# Extracting model Parameters for the equation f(x)= a*e^(b*x)\n",
    "a=popt[0].round(3)                                                          #Getting the value of a rounded to 3 decimal places\n",
    "b=popt[1].round(3)                                                          #Getting the value of b rounded to 3 decimal places\n",
    "\n",
    "for i in range(len(franceTestDays)):               \n",
    "  francePredict.append(func_predict(a,b,franceTestDays[i]))\n",
    "print(f'The equation of regression line is y={a}e^({b}x)')\n",
    "\n",
    "print('a=',a,'    b=',b)                                                    # Displaying Model Parameters (a and b)\n",
    "\n",
    "MeanSquareError=func_MeanSquareError(franceTest,francePredict,a,b)            #Calculating the Mean square error\n",
    "print('Mean Square Error = ',MeanSquareError)                               # Displaying the Mean Square Error\n"
   ]
  }
 ],
 "metadata": {
  "colab": {
   "collapsed_sections": [],
   "name": "Exponential Model.ipynb",
   "provenance": []
  },
  "kernelspec": {
   "display_name": "Python 3",
   "language": "python",
   "name": "python3"
  },
  "language_info": {
   "codemirror_mode": {
    "name": "ipython",
    "version": 3
   },
   "file_extension": ".py",
   "mimetype": "text/x-python",
   "name": "python",
   "nbconvert_exporter": "python",
   "pygments_lexer": "ipython3",
   "version": "3.7.4"
  }
 },
 "nbformat": 4,
 "nbformat_minor": 1
}
