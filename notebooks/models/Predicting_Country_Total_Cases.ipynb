{
 "cells": [
  {
   "cell_type": "code",
   "execution_count": 39,
   "metadata": {
    "colab": {
     "base_uri": "https://localhost:8080/",
     "height": 309
    },
    "colab_type": "code",
    "id": "sFY064ix_E8w",
    "outputId": "f3c9e460-f52f-4f0a-8716-d01f1b5c0eb0"
   },
   "outputs": [
    {
     "name": "stdout",
     "output_type": "stream",
     "text": [
      "Collecting git+https://github.com/tensorflow/docs\n",
      "  Cloning https://github.com/tensorflow/docs to /tmp/pip-req-build-g9d5nyq6\n",
      "  Running command git clone -q https://github.com/tensorflow/docs /tmp/pip-req-build-g9d5nyq6\n",
      "Requirement already satisfied: astor in /usr/local/lib/python3.6/dist-packages (from tensorflow-docs===0.0.0382a1f98892c95ad026d3ae50e3bdb64820bb3f8-) (0.8.1)\n",
      "Requirement already satisfied: absl-py in /usr/local/lib/python3.6/dist-packages (from tensorflow-docs===0.0.0382a1f98892c95ad026d3ae50e3bdb64820bb3f8-) (0.9.0)\n",
      "Requirement already satisfied: six in /usr/local/lib/python3.6/dist-packages (from tensorflow-docs===0.0.0382a1f98892c95ad026d3ae50e3bdb64820bb3f8-) (1.12.0)\n",
      "Collecting pathlib2\n",
      "  Downloading https://files.pythonhosted.org/packages/e9/45/9c82d3666af4ef9f221cbb954e1d77ddbb513faf552aea6df5f37f1a4859/pathlib2-2.3.5-py2.py3-none-any.whl\n",
      "Requirement already satisfied: pyyaml in /usr/local/lib/python3.6/dist-packages (from tensorflow-docs===0.0.0382a1f98892c95ad026d3ae50e3bdb64820bb3f8-) (3.13)\n",
      "Building wheels for collected packages: tensorflow-docs\n",
      "  Building wheel for tensorflow-docs (setup.py) ... \u001b[?25l\u001b[?25hdone\n",
      "  Created wheel for tensorflow-docs: filename=tensorflow_docs-0.0.0382a1f98892c95ad026d3ae50e3bdb64820bb3f8_-cp36-none-any.whl size=101463 sha256=5153e9674f801d8b3e946569b2b04ab502f616a5285daf7d3d543ccd7d5cc95d\n",
      "  Stored in directory: /tmp/pip-ephem-wheel-cache-h33_i7xb/wheels/eb/1b/35/fce87697be00d2fc63e0b4b395b0d9c7e391a10e98d9a0d97f\n",
      "Successfully built tensorflow-docs\n",
      "Installing collected packages: pathlib2, tensorflow-docs\n",
      "Successfully installed pathlib2-2.3.5 tensorflow-docs-0.0.0382a1f98892c95ad026d3ae50e3bdb64820bb3f8-\n"
     ]
    }
   ],
   "source": [
    "!pip install git+https://github.com/tensorflow/docs"
   ]
  },
  {
   "cell_type": "code",
   "execution_count": 53,
   "metadata": {
    "colab": {
     "base_uri": "https://localhost:8080/",
     "height": 34
    },
    "colab_type": "code",
    "id": "KPcqeuSwt3xB",
    "outputId": "2d56cc64-fbed-467f-cf4a-daa80ee07dc7"
   },
   "outputs": [
    {
     "name": "stdout",
     "output_type": "stream",
     "text": [
      "Drive already mounted at /content/drive; to attempt to forcibly remount, call drive.mount(\"/content/drive\", force_remount=True).\n"
     ]
    }
   ],
   "source": [
    "import pickle\n",
    "import numpy as np\n",
    "import tensorflow.keras.backend as K\n",
    "import tensorflow_docs as tfdocs\n",
    "import tensorflow_docs.modeling\n",
    "import matplotlib.pyplot as plt\n",
    "import tensorflow as tf\n",
    "from sklearn.neural_network import MLPRegressor\n",
    "from sklearn.ensemble import RandomForestRegressor\n",
    "from sklearn.model_selection import train_test_split\n",
    "from sklearn.metrics import mean_squared_error\n",
    "from sklearn.preprocessing import MinMaxScaler\n",
    "from sklearn import linear_model\n",
    "from tensorflow import keras\n",
    "from tensorflow.keras import layers\n",
    "from google.colab import drive\n",
    "drive.mount('/content/drive')"
   ]
  },
  {
   "cell_type": "code",
   "execution_count": 0,
   "metadata": {
    "colab": {},
    "colab_type": "code",
    "id": "Cc0ZenAU9AUw"
   },
   "outputs": [],
   "source": [
    "def read_pickle_data_file(file_path):\n",
    "  \"\"\"\n",
    "  Used To read pickle files that contain countries features as dictionaries.\n",
    "\n",
    "  Parameters:\n",
    "  file_path (string): The path of the file that contain country feature\n",
    "\n",
    "  Returns:\n",
    "  dictionary: Country feature as a dictionary\n",
    "  \"\"\"\n",
    "  \n",
    "  with open(file_path, 'rb') as handle:\n",
    "    return pickle.load(handle)"
   ]
  },
  {
   "cell_type": "code",
   "execution_count": 0,
   "metadata": {
    "colab": {},
    "colab_type": "code",
    "id": "b9w3xEF03l9R"
   },
   "outputs": [],
   "source": [
    "def prune_dictionary(common_dicts_keys, pruning_dict):\n",
    "  \"\"\"\n",
    "  Used To remove from a dictionary the keys that are uncommon in the countries features dictionaries.\n",
    "\n",
    "  Parameters:\n",
    "  common_dicts_keys (set): Set contains the common keys in the countries features dictionaries\n",
    "  pruning_dict (dictionary): The dictionary to be prune\n",
    "  \"\"\"\n",
    "\n",
    "  for key in list(pruning_dict.keys()): \n",
    "    if key not in common_dicts_keys:\n",
    "        del pruning_dict[key]"
   ]
  },
  {
   "cell_type": "markdown",
   "metadata": {
    "colab_type": "text",
    "id": "re_G8uUzuXxy"
   },
   "source": [
    "# **Loading Countries Features**"
   ]
  },
  {
   "cell_type": "markdown",
   "metadata": {
    "colab_type": "text",
    "id": "7ppfbWqNwcyE"
   },
   "source": [
    "Each country owns a **COVID-19 total cases** until 15/5/2020 \"which is the target of our problem\" and a vector that contains the following features:\n",
    "\n",
    "*   Population\n",
    "*   Humidity\n",
    "*   Sun hours\n",
    "*   Average tempreture\n",
    "*   Gross Domestic Product (GDP)\n",
    "*   COVID-19 total deaths until 15/5/2020\n",
    "*   COVID-19 total tests until 15/5/2020\n",
    "*   Spanish flu total deaths (2009)\n",
    "*   Spanish flu total cases (2009)\n",
    "\n",
    "\n",
    "\n"
   ]
  },
  {
   "cell_type": "code",
   "execution_count": 0,
   "metadata": {
    "colab": {},
    "colab_type": "code",
    "id": "oLTm8aQV9Ce2"
   },
   "outputs": [],
   "source": [
    "OWID_PATH = 'drive/My Drive/COVID-19/our-world-in-data/country-features'\n",
    "WEATHER_FEATURES_PATH = 'drive/My Drive/COVID-19/weather-features/country-features'\n",
    "COUNTRY_DATA_PATH = 'drive/My Drive/COVID-19/country-data'"
   ]
  },
  {
   "cell_type": "code",
   "execution_count": 0,
   "metadata": {
    "colab": {},
    "colab_type": "code",
    "id": "FaTpFyogyw3Z"
   },
   "outputs": [],
   "source": [
    "total_cases_dict = read_pickle_data_file(OWID_PATH + '/total_cases_dict.pickle')\n",
    "population_dict = read_pickle_data_file(OWID_PATH + '/population_dict.pickle')\n",
    "humidity_dict = read_pickle_data_file(WEATHER_FEATURES_PATH + '/humidity_dict.pickle')\n",
    "sun_hour_dict = read_pickle_data_file(WEATHER_FEATURES_PATH + '/sunHour_dict.pickle')\n",
    "tempreture_dict = read_pickle_data_file(WEATHER_FEATURES_PATH + '/tempC_dict.pickle')\n",
    "gdp_dict = read_pickle_data_file(COUNTRY_DATA_PATH + '/gdp_dict.pickle')\n",
    "total_deaths_dict = read_pickle_data_file(OWID_PATH + '/total_deaths_dict.pickle')\n",
    "total_tests_dict = read_pickle_data_file(OWID_PATH + '/total_tests_dict.pickle')\n",
    "deaths_flu_2009_dict = read_pickle_data_file(COUNTRY_DATA_PATH + '/deaths_flu_2009.pickle')\n",
    "casess_flu_2009_dict = read_pickle_data_file(COUNTRY_DATA_PATH + '/cases_flu_2009.pickle')"
   ]
  },
  {
   "cell_type": "markdown",
   "metadata": {
    "colab_type": "text",
    "id": "s1TRvOZ8v-JS"
   },
   "source": [
    "# **Preprocessing Countries features**"
   ]
  },
  {
   "cell_type": "markdown",
   "metadata": {
    "colab_type": "text",
    "id": "ylwoi3hRLLeQ"
   },
   "source": [
    "### **Step 1: Pruning Countries Features and Creating Dataset**\n",
    "\n",
    "As the features (dictionaries) are collected from different resources, some of thiem contain countries (keys) not in the others. So, all the features must contain the same countries and that's done by:\n",
    "\n",
    "\n",
    "1.   Picking the common countries in each feature.\n",
    "2.   Removing the countries that aren't common between the features in each one.\n",
    "\n",
    "By that, all the features contain the same countries and are ready to be converted to column vector for the datase.\n",
    "\n",
    "Appending all the features values horizontally will result the dataset which will be splitted into training data and test data. Total cases feature will be our target feature so it isn't appended with the other features.\n",
    "\n"
   ]
  },
  {
   "cell_type": "code",
   "execution_count": 0,
   "metadata": {
    "colab": {},
    "colab_type": "code",
    "id": "wTWI_cmk7i_1"
   },
   "outputs": [],
   "source": [
    "# Picking the commoncountries (keys) in each feature (dictionary)\n",
    "dicts = [total_cases_dict, tempreture_dict, total_deaths_dict, population_dict, total_tests_dict, humidity_dict, sun_hour_dict, gdp_dict, deaths_flu_2009_dict, casess_flu_2009_dict]\n",
    "common_dicts_keys = set(total_cases_dict.keys())\n",
    "for d in dicts:\n",
    "    common_dicts_keys.intersection_update(set(d.keys()))\n",
    "\n",
    "# Removing the countries (keys) that aren't common between the features (dictionaries)\n",
    "for d in dicts:\n",
    "  prune_dictionary(common_dicts_keys, d)"
   ]
  },
  {
   "cell_type": "code",
   "execution_count": 0,
   "metadata": {
    "colab": {},
    "colab_type": "code",
    "id": "Qp3vTeJo9sx7"
   },
   "outputs": [],
   "source": [
    "# Appending the features values and creating the dtaset (countries features)\n",
    "countries_features = []\n",
    "for d in dicts[1:]:\n",
    "  dict_values = []\n",
    "  for key in total_cases_dict.keys():\n",
    "    dict_values.append(d[key])\n",
    "\n",
    "  countries_features.append(dict_values)\n",
    "\n",
    "# Making all the features values as column vector in the dataset\n",
    "countries_features = np.column_stack(countries_features)\n",
    "\n",
    "# Creating the target values (countries total cases)\n",
    "countries_total_cases = np.array(list(total_cases_dict.values()))"
   ]
  },
  {
   "cell_type": "markdown",
   "metadata": {
    "colab_type": "text",
    "id": "8B5-d7o6QB0i"
   },
   "source": [
    "### **Step 2: Scaling the Dataset**\n",
    "\n",
    "Each of the countries features values (including total cases feature) may differ from each other in terms of range of values, we  have to normalise the data so that the difference in these range of values does not affect the results.\n",
    "\n",
    "**MinMaxScaler** is used to normalize each feature value to a certain range (here the range is 0 - 1) by appling the following equation:\n",
    "\n",
    "\n",
    "$$m=\\frac{x-x_{min}}{x_{max}-x_{min}}$$\n",
    "\n",
    "Where:\n",
    "*  $m$ is the new feature value\n",
    "*  $x$ is the original feature value\n",
    "*  $x_{min}$ is the minimum value of the feature\n",
    "*  $x_{max}$ is the maximum value of the feature\n",
    "\n",
    "\n",
    "By that, each feature will have max value = 1 and min value = 0 and the other will be between 0 and 1."
   ]
  },
  {
   "cell_type": "code",
   "execution_count": 0,
   "metadata": {
    "colab": {},
    "colab_type": "code",
    "id": "1Em_0d7QLBZv"
   },
   "outputs": [],
   "source": [
    "scaler = MinMaxScaler(feature_range=(0, 1))\n",
    "# Scaling countries features\n",
    "countries_features = scaler.fit_transform(countries_features)\n",
    "\n",
    "#scaling countries total cases feature\n",
    "countries_total_cases = scaler.fit_transform(countries_total_cases.reshape(-1, 1))"
   ]
  },
  {
   "cell_type": "markdown",
   "metadata": {
    "colab_type": "text",
    "id": "eB3FYNfKV6pR"
   },
   "source": [
    "# **Preparing Training and Test Data**"
   ]
  },
  {
   "cell_type": "markdown",
   "metadata": {
    "colab_type": "text",
    "id": "ohPRM0-fWU8M"
   },
   "source": [
    "The dataset will be splitted as:\n",
    "\n",
    "*   75% for the training data.\n",
    "*   25% for the test data.\n",
    "\n",
    "There may be a validation data which will be excluded from the training data randomly when the models work.\n",
    "\n"
   ]
  },
  {
   "cell_type": "code",
   "execution_count": 0,
   "metadata": {
    "colab": {},
    "colab_type": "code",
    "id": "nNXiqs8ZvqCN"
   },
   "outputs": [],
   "source": [
    "countries_features_train, countries_features_test, countries_total_cost_train, countries_total_cost_test = train_test_split(countries_features, countries_total_cases, random_state=1)"
   ]
  },
  {
   "cell_type": "markdown",
   "metadata": {
    "colab_type": "text",
    "id": "7UGgb2_eW_Wn"
   },
   "source": [
    "# **Attempts in Solving the Problem**\n",
    "\n",
    "Four attempts are applied for predicting the total number of cases in a country. The attempts are:\n",
    "\n",
    "\n",
    "1.   Multi-Layer Perceptron (MLP)\n",
    "2.   Linear Regression\n",
    "3.   Random Forest Regression\n",
    "4.   Neural Network\n",
    "\n",
    "After each attempt, the root mean squared error (RMSE) is measured on the test cases. Root mean squared error is measred as:\n",
    "\n",
    "$$RMSE = \\sqrt{\\frac{1}{n}\\sum_{i=1}^n (Y_i - Y'_i)^2}$$\n",
    "\n",
    "Where:\n",
    "\n",
    "\n",
    "*   $n$ is the total number of test cases\n",
    "*   $Y_i$ is the true value of total cases based on test point (country) $X_i$\n",
    "*   $Y'_i$ is the predicted value of total cases\n",
    "\n",
    "\n",
    "\n",
    "\n"
   ]
  },
  {
   "cell_type": "markdown",
   "metadata": {
    "colab_type": "text",
    "id": "bCKXK20eXyEX"
   },
   "source": [
    "### **Attempt 1: Multi-Layer Perceptron Regressor**\n",
    "A multi-layer perceptron (MLP) is a class of feedforward artificial neural network (ANN) which consists of at least three layers of nodes: \n",
    "\n",
    "*   Input layer\n",
    "*   Hidden layer\n",
    "*   Output layer\n",
    "\n",
    "![](https://scikit-learn.org/stable/_images/multilayerperceptron_network.png)\n",
    "\n",
    "Except for the input nodes, each node is a neuron that uses a nonlinear activation function. We used relu activation function which returns $$f(x) = max(0, x)$$\n",
    "\n",
    "MLP utilizes a supervised learning technique called backpropagation for training (here we used **adam** solver for weight optimization which refers to a stochastic gradient-based optimizer).\n",
    "\n",
    "The number of input neurons are the number of country features, The number of hidden neurons = 64 neurons and there is a single neuron in the output layer."
   ]
  },
  {
   "cell_type": "code",
   "execution_count": 107,
   "metadata": {
    "colab": {
     "base_uri": "https://localhost:8080/",
     "height": 350
    },
    "colab_type": "code",
    "id": "_DTEtRO7vxxw",
    "outputId": "c9864a50-1ebd-4519-f465-6ae52ceecfd0"
   },
   "outputs": [
    {
     "name": "stdout",
     "output_type": "stream",
     "text": [
      "RMSE of multi-layered perceptron =  0.0790742098456766\n"
     ]
    },
    {
     "name": "stderr",
     "output_type": "stream",
     "text": [
      "/usr/local/lib/python3.6/dist-packages/sklearn/neural_network/_multilayer_perceptron.py:1342: DataConversionWarning: A column-vector y was passed when a 1d array was expected. Please change the shape of y to (n_samples, ), for example using ravel().\n",
      "  y = column_or_1d(y, warn=True)\n"
     ]
    },
    {
     "data": {
      "image/png": "[encoded data removed]",
      "text/plain": [
       "<Figure size 432x288 with 1 Axes>"
      ]
     },
     "metadata": {
      "needs_background": "light",
      "tags": []
     },
     "output_type": "display_data"
    }
   ],
   "source": [
    "mlp_regressor = MLPRegressor(random_state=1, activation='relu', solver='adam', max_iter=1000, hidden_layer_sizes=(64)).fit(countries_features_train, countries_total_cost_train)\n",
    "countries_total_cost_test_pred = mlp_regressor.predict(countries_features_test)\n",
    "print(\"RMSE of multi-layered perceptron = \" , np.sqrt(mean_squared_error(countries_total_cost_test, countries_total_cost_test_pred)))\n",
    "plt.plot(range(len(mlp_regressor.loss_curve_)), mlp_regressor.loss_curve_)\n",
    "plt.xlabel('iterations')\n",
    "plt.ylabel('MSE')\n",
    "plt.show()"
   ]
  },
  {
   "cell_type": "markdown",
   "metadata": {
    "colab_type": "text",
    "id": "ryErCShOluv3"
   },
   "source": [
    "### **Attempt 2: Linear Regression**\n",
    "\n",
    "linear regression is a linear approach to modeling the relationship between a instances feature vector and their target values. It tries to select the best line that can fit the data points. In case of multi dimensions feature vector, it tres to select the best hyperplane to fit the data points.\n",
    "\n",
    "![](https://upload.wikimedia.org/wikipedia/commons/thumb/3/3a/Linear_regression.svg/1200px-Linear_regression.svg.png)\n",
    "\n",
    "Linear regression model follows the following equation:\n",
    "$$f(x) = \\beta_0 + \\sum_{j=1}^d\\beta_jx_j$$\n",
    "where:\n",
    "\n",
    "\n",
    "*   $f(x)$ is the predicted target value of instance $x$ \n",
    "*   $\\beta s$ are called parameters or coefficients or weights.\n",
    "*   $x_j$ is the feature $j$ of instance $x$\n",
    "\n",
    "The goal of linear regression is to learn $\\beta s$. The goal of linear regression can be acheived by three ways:\n",
    "1. **First derivative:** Try to minimize the mean squared error $$MSE = \\frac{1}{2n}\\sum_{i=1}^n (Y_i - (\\beta_0 + \\sum_{j=1}^d\\beta_jx_{ij}))^2$$\n",
    "That is $$\\frac{\\partial MSE}{\\partial \\beta_j} = 0 ; j = 0:d$$\n",
    "\n",
    "2. **Matrix Representation:** Let $X$ be an n * (d + 1) matrix where each row starts with a 1 followed by a feature vector. Let $y$ be the target vector of the training set. Let $\\beta$ be the vector of weights that we want to reach.\n",
    "The simple equation to get $\\beta$ using matrix $X$ and vector $y$ is:\n",
    "$$\\beta = (X^TX)^{-1}X^Ty$$\n",
    "\n",
    "3. **Gradient Descent:** Update simultaneously all $\\beta_j$ until convergence\n",
    "$$\\beta_j = \\beta_j - \\alpha\\frac{\\partial}{\\partial \\beta_j}MSE$$\n",
    "where $\\alpha$ is a learning rate.\n",
    "\n",
    "\n"
   ]
  },
  {
   "cell_type": "code",
   "execution_count": 108,
   "metadata": {
    "colab": {
     "base_uri": "https://localhost:8080/",
     "height": 34
    },
    "colab_type": "code",
    "id": "5Tn5Z8CmZ9p1",
    "outputId": "f9192492-2ae4-4109-aa25-08acb387068e"
   },
   "outputs": [
    {
     "name": "stdout",
     "output_type": "stream",
     "text": [
      "RMSE of linear regression =  0.13728826981542241\n"
     ]
    }
   ],
   "source": [
    "linear_regressor = linear_model.LinearRegression().fit(countries_features_train, countries_total_cost_train)\n",
    "countries_total_cost_test_pred = linear_regressor.predict(countries_features_test)\n",
    "print(\"RMSE of linear regression = \" , np.sqrt(mean_squared_error(countries_total_cost_test, countries_total_cost_test_pred)))"
   ]
  },
  {
   "cell_type": "markdown",
   "metadata": {
    "colab_type": "text",
    "id": "7WjK-dGPvdle"
   },
   "source": [
    "### **Attempt 3: Random forest Regression**\n",
    "\n",
    "Random forests or random decision forests are an ensemble learning method for regression. It operates by constructing a multitude of decision trees at training time and outputting the class that is the mean prediction (regression) of the individual trees. \n",
    "$$f' = \\frac{1}{B}\\sum_{b=1}^B f_b(x)$$\n",
    "\n",
    "![](https://miro.medium.com/max/2612/0*f_qQPFpdofWGLQqc.png)\n",
    "\n",
    "\n",
    "Random forests correct for decision trees' habit of overfitting to their training set.\n",
    "\n",
    "Random forests have 2 mean parameters to be set:\n",
    "\n",
    "\n",
    "*   **n_estimators:** The number of trees in the forest.\n",
    "*   **max_depth:** The maximum depth of the tree. If None, then nodes are expanded until all leaves are pure or until all leaves contain less than min samples split (default here is 2).\n",
    "\n"
   ]
  },
  {
   "cell_type": "code",
   "execution_count": 109,
   "metadata": {
    "colab": {
     "base_uri": "https://localhost:8080/",
     "height": 88
    },
    "colab_type": "code",
    "id": "MoLc5Ne2EWb3",
    "outputId": "a4a25ea6-36a5-4599-a9bd-ba63a2a0d200"
   },
   "outputs": [
    {
     "name": "stdout",
     "output_type": "stream",
     "text": [
      "RMSE of random forest regression perceptron =  0.06019355239688291\n"
     ]
    },
    {
     "name": "stderr",
     "output_type": "stream",
     "text": [
      "/usr/local/lib/python3.6/dist-packages/ipykernel_launcher.py:2: DataConversionWarning: A column-vector y was passed when a 1d array was expected. Please change the shape of y to (n_samples,), for example using ravel().\n",
      "  \n"
     ]
    }
   ],
   "source": [
    "rf_regressor = RandomForestRegressor(max_depth=10, n_estimators=5,  random_state=0)\n",
    "rf_regressor.fit(countries_features_train, countries_total_cost_train)\n",
    "countries_total_cost_test_pred = rf_regressor.predict(countries_features_test)\n",
    "print(\"RMSE of random forest regression perceptron = \" , np.sqrt(mean_squared_error(countries_total_cost_test, countries_total_cost_test_pred)))"
   ]
  },
  {
   "cell_type": "markdown",
   "metadata": {
    "colab_type": "text",
    "id": "GFsh7k7iAc2k"
   },
   "source": [
    "### **Attempt 4: Fully Connected Neural Network**\n",
    "\n",
    "Neural networks are used to recognize correlations and hidden patterns in raw data. It works as a black box; an input layer gets the data into the “hidden layers” and after that we can see the information provided by the output layer.\n",
    "\n",
    "![](https://compphysics.github.io/MachineLearning/doc/pub/cnn/html/figslides/nn.jpeg)\n",
    "\n",
    "We designed a fully connected neural network (FCNN) with input layer where the number of neurons in it equals the number of country features (9). The neural network contains of 5 hidden layers:\n",
    "\n",
    "\n",
    "1.   1st hidden layers consists of 128 neurons\n",
    "2.   2nd hidden layers consists of 64 neurons\n",
    "3.   3rd hidden layers consists of 32 neurons\n",
    "4.   4th hidden layers consists of 16 neurons\n",
    "5.   5th hidden layers consists of 8 neurons\n",
    "\n",
    "Each neuron in the hidden layers and output layer has a bias value that's included during calculating the value of that neuron.\n",
    "\n",
    "At each level the number of parameters to be optimized follow the following equation:\n",
    "\n",
    "$$P = I*N + B$$\n",
    "where:\n",
    "\n",
    "*   $I$ is the number of input neurons\n",
    "*   $N$ is the number of neurons in the layer\n",
    "*   $B$ is the number of biases in the layer\n",
    "\n",
    "We used relu activation function for all the neurons in the neural network $$f(x) = max(0, x)$$\n",
    "\n",
    "Backpropagation is used for optimizing the weights and biases values for training (we used **adam** solver for weight optimization which refers to a stochastic gradient-based optimizer).\n",
    "\n",
    "During the neural network training, sample of the training data is extracted as a validation data to test if the model is learning from the data or not and indication of overfitting of the model.\n",
    "\n",
    "\n"
   ]
  },
  {
   "cell_type": "code",
   "execution_count": 103,
   "metadata": {
    "colab": {
     "base_uri": "https://localhost:8080/",
     "height": 357
    },
    "colab_type": "code",
    "id": "ujclYEtE_a0h",
    "outputId": "a2c54c23-52d8-4d85-8cad-e62588fbe53d"
   },
   "outputs": [
    {
     "name": "stdout",
     "output_type": "stream",
     "text": [
      "Model: \"sequential_9\"\n",
      "_________________________________________________________________\n",
      "Layer (type)                 Output Shape              Param #   \n",
      "=================================================================\n",
      "dense_54 (Dense)             (None, 128)               1280      \n",
      "_________________________________________________________________\n",
      "dense_55 (Dense)             (None, 64)                8256      \n",
      "_________________________________________________________________\n",
      "dense_56 (Dense)             (None, 32)                2080      \n",
      "_________________________________________________________________\n",
      "dense_57 (Dense)             (None, 16)                528       \n",
      "_________________________________________________________________\n",
      "dense_58 (Dense)             (None, 8)                 136       \n",
      "_________________________________________________________________\n",
      "dense_59 (Dense)             (None, 1)                 9         \n",
      "=================================================================\n",
      "Total params: 12,289\n",
      "Trainable params: 12,289\n",
      "Non-trainable params: 0\n",
      "_________________________________________________________________\n"
     ]
    }
   ],
   "source": [
    "model = keras.Sequential([\n",
    "    layers.Dense(128, activation='relu', input_shape=(len(countries_features[0]),)),\n",
    "    layers.Dense(64, activation='relu'),\n",
    "    layers.Dense(32, activation='relu'),\n",
    "    layers.Dense(16, activation='relu'),\n",
    "    layers.Dense(8, activation='relu'),\n",
    "    layers.Dense(1)\n",
    "  ])\n",
    "optimizer = tf.keras.optimizers.Adam(learning_rate=0.001)\n",
    "model.compile(loss='mse', optimizer=optimizer, metrics=['mse'])\n",
    "model.summary()"
   ]
  },
  {
   "cell_type": "code",
   "execution_count": 104,
   "metadata": {
    "colab": {
     "base_uri": "https://localhost:8080/",
     "height": 374
    },
    "colab_type": "code",
    "id": "UWf8fyfP_kqP",
    "outputId": "4f108923-3b15-409f-f2a0-d40807d6dc33"
   },
   "outputs": [
    {
     "name": "stdout",
     "output_type": "stream",
     "text": [
      "\n",
      "Epoch: 0, loss:0.0570,  mse:0.0570,  val_loss:0.1206,  val_mse:0.1206,  \n",
      "....................................................................................................\n",
      "Epoch: 100, loss:0.0008,  mse:0.0008,  val_loss:0.0266,  val_mse:0.0266,  \n",
      "....................................................................................................\n",
      "Epoch: 200, loss:0.0003,  mse:0.0003,  val_loss:0.0206,  val_mse:0.0206,  \n",
      "....................................................................................................\n",
      "Epoch: 300, loss:0.0002,  mse:0.0002,  val_loss:0.0202,  val_mse:0.0202,  \n",
      "....................................................................................................\n",
      "Epoch: 400, loss:0.0001,  mse:0.0001,  val_loss:0.0215,  val_mse:0.0215,  \n",
      "....................................................................................................\n",
      "Epoch: 500, loss:0.0001,  mse:0.0001,  val_loss:0.0229,  val_mse:0.0229,  \n",
      "....................................................................................................\n",
      "Epoch: 600, loss:0.0001,  mse:0.0001,  val_loss:0.0212,  val_mse:0.0212,  \n",
      "....................................................................................................\n",
      "Epoch: 700, loss:0.0001,  mse:0.0001,  val_loss:0.0211,  val_mse:0.0211,  \n",
      "....................................................................................................\n",
      "Epoch: 800, loss:0.0000,  mse:0.0000,  val_loss:0.0195,  val_mse:0.0195,  \n",
      "....................................................................................................\n",
      "Epoch: 900, loss:0.0000,  mse:0.0000,  val_loss:0.0202,  val_mse:0.0202,  \n",
      "...................................................................................................."
     ]
    }
   ],
   "source": [
    "history = model.fit(countries_features_train, countries_total_cost_train, epochs=1000, validation_split = 0.1, verbose=0, callbacks=[tfdocs.modeling.EpochDots()])"
   ]
  },
  {
   "cell_type": "code",
   "execution_count": 105,
   "metadata": {
    "colab": {
     "base_uri": "https://localhost:8080/",
     "height": 295
    },
    "colab_type": "code",
    "id": "k8swoxCBAL5J",
    "outputId": "99a0c785-790a-431c-be72-e2f0e8efdd9e"
   },
   "outputs": [
    {
     "data": {
      "image/png": "[encoded data removed]",
      "text/plain": [
       "<Figure size 432x288 with 1 Axes>"
      ]
     },
     "metadata": {
      "needs_background": "light",
      "tags": []
     },
     "output_type": "display_data"
    }
   ],
   "source": [
    "plt.plot(history.history['mse'])\n",
    "plt.plot(history.history['val_mse'])\n",
    "plt.title('model mse')\n",
    "plt.ylabel('mse')\n",
    "plt.xlabel('epoch')\n",
    "plt.legend(['train', 'val'], loc='upper left')\n",
    "plt.show()"
   ]
  },
  {
   "cell_type": "code",
   "execution_count": 110,
   "metadata": {
    "colab": {
     "base_uri": "https://localhost:8080/",
     "height": 51
    },
    "colab_type": "code",
    "id": "6o8GC4i3_sTH",
    "outputId": "b996552a-a3d9-47bd-b38e-3bb7b560b027"
   },
   "outputs": [
    {
     "name": "stdout",
     "output_type": "stream",
     "text": [
      "1/1 [==============================] - 0s 979us/step\n",
      "RMSE of neural network=  0.06867430516315633\n"
     ]
    }
   ],
   "source": [
    "countries_total_cost_test_pred = model.predict(countries_features_test, verbose=1).flatten()\n",
    "print(\"RMSE of neural network= \" , np.sqrt(mean_squared_error(countries_total_cost_test, countries_total_cost_test_pred)))"
   ]
  },
  {
   "cell_type": "markdown",
   "metadata": {
    "colab_type": "text",
    "id": "DjJ9pEE3Eq6d"
   },
   "source": [
    "# **Conclusion**\n",
    "\n",
    "After trying the four attempts, the results of there root mean squared error (RMSE) are as follow:\n",
    "\n",
    "\n",
    "|                                |      RMSE     |\n",
    "|--------------------------------|:-------------:|\n",
    "| Multi-Layered Perceptron       |  0.07907      |\n",
    "| Linear Regression              |  0.1373       |\n",
    "| Random Forest Regression       |  0.06019      |\n",
    "| Fully Connected Neural Network |  0.06867      |\n",
    "\n",
    "\n",
    "As shown, the attempt with best result is given by **Random Forest Regression**. So, we candepend on Random forest Regression for predicting the total cases of Covid-19 for a country in 15/5/2020. These reults depends on the training data that is used for each one of the models. So, with another training data the results may change and another model may be better of Random Forest Regression."
   ]
  },
  {
   "cell_type": "markdown",
   "metadata": {
    "colab_type": "text",
    "id": "sr4pwPySEv5c"
   },
   "source": [
    "# **References**\n",
    "[TensorFlow Regression Tutorial](https://www.tensorflow.org/tutorials/keras/regression)\n",
    "\n",
    "[Scikit-Learn Random Forest Regressor](https://scikit-learn.org/stable/modules/generated/sklearn.ensemble.RandomForestRegressor.html)\n",
    "\n",
    "[Scikit-Learn Linear Regression](https://scikit-learn.org/stable/modules/generated/sklearn.linear_model.LinearRegression.html)\n",
    "\n",
    "[Scikit-Learn Muilti-Layer Perceptron](https://scikit-learn.org/stable/modules/neural_networks_supervised.html)\n"
   ]
  }
 ],
 "metadata": {
  "colab": {
   "collapsed_sections": [],
   "name": "Predicting_Country_Total_Cases.ipynb",
   "provenance": []
  },
  "kernelspec": {
   "display_name": "Python 3",
   "language": "python",
   "name": "python3"
  },
  "language_info": {
   "codemirror_mode": {
    "name": "ipython",
    "version": 3
   },
   "file_extension": ".py",
   "mimetype": "text/x-python",
   "name": "python",
   "nbconvert_exporter": "python",
   "pygments_lexer": "ipython3",
   "version": "3.7.3"
  }
 },
 "nbformat": 4,
 "nbformat_minor": 1
}
